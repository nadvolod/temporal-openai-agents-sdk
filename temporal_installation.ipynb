{
 "cells": [
  {
   "cell_type": "markdown",
   "id": "86b5ae4f",
   "metadata": {},
   "source": [
    "# Temporal CLI Installation\n",
    "Run the following cells to install the Temporal CLI and start the Temporal dev server."
   ]
  },
  {
   "cell_type": "code",
   "execution_count": null,
   "id": "028e4a1f",
   "metadata": {},
   "outputs": [],
   "source": [
    "# Install Temporal CLI\n",
    "!curl -sSf https://temporal.download/cli.sh | sh"
   ]
  },
  {
   "cell_type": "code",
   "execution_count": null,
   "id": "1bc4ec7a",
   "metadata": {},
   "outputs": [
    {
     "name": "stdout",
     "output_type": "stream",
     "text": [
      "CLI 1.5.0 (Server 1.29.0, UI 2.41.0)\n",
      "\n",
      "Server:  localhost:7233\n",
      "UI:      http://localhost:8233\n",
      "Metrics: http://localhost:41987/metrics\n"
     ]
    }
   ],
   "source": [
    "# Start Temporal dev server\n",
    "!~/.temporalio/bin/temporal server start-dev"
   ]
  }
 ],
 "metadata": {
  "kernelspec": {
   "display_name": "Python 3",
   "language": "python",
   "name": "python3"
  },
  "language_info": {
   "codemirror_mode": {
    "name": "ipython",
    "version": 3
   },
   "file_extension": ".py",
   "mimetype": "text/x-python",
   "name": "python",
   "nbconvert_exporter": "python",
   "pygments_lexer": "ipython3",
   "version": "3.11.13"
  }
 },
 "nbformat": 4,
 "nbformat_minor": 5
}
