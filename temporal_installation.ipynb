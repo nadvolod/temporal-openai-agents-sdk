{
 "cells": [
  {
   "cell_type": "markdown",
   "id": "86b5ae4f",
   "metadata": {},
   "source": [
    "# Temporal CLI Installation\n",
    "Run the following cells to install the Temporal CLI and start the Temporal dev server."
   ]
  },
  {
   "cell_type": "code",
   "execution_count": null,
   "id": "028e4a1f",
   "metadata": {
    "vscode": {
     "languageId": "bash"
    }
   },
   "outputs": [],
   "source": [
    "# Install Temporal CLI\n",
    "!curl -sSf https://temporal.download/cli.sh | sh"
   ]
  },
  {
   "cell_type": "code",
   "execution_count": null,
   "id": "1bc4ec7a",
   "metadata": {
    "vscode": {
     "languageId": "bash"
    }
   },
   "outputs": [],
   "source": [
    "# Start Temporal dev server\n",
    "!~/.temporalio/bin/temporal server start-dev"
   ]
  }
 ],
 "metadata": {
  "language_info": {
   "name": "python"
  }
 },
 "nbformat": 4,
 "nbformat_minor": 5
}
