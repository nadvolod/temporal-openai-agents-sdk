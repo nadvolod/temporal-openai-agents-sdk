{
 "cells": [
  {
   "cell_type": "markdown",
   "metadata": {},
   "source": [
    "# Exercise 1: Agent Hello World - Solution\n",
    "\n",
    "Complete implementation of a simple AI agent with tool calling."
   ]
  },
  {
   "cell_type": "markdown",
   "metadata": {},
   "source": [
    "## Setup"
   ]
  },
  {
   "cell_type": "code",
   "execution_count": 1,
   "metadata": {},
   "outputs": [
    {
     "data": {
      "text/html": [
       "<pre style=\"white-space:pre;overflow-x:auto;line-height:normal;font-family:Menlo,'DejaVu Sans Mono',consolas,'Courier New',monospace\">\n",
       "<span style=\"color: #008080; text-decoration-color: #008080; font-weight: bold\">🤖 Exercise </span><span style=\"color: #008080; text-decoration-color: #008080; font-weight: bold\">1</span><span style=\"color: #008080; text-decoration-color: #008080; font-weight: bold\">: Agent Hello World - Solution</span>\n",
       "\n",
       "</pre>\n"
      ],
      "text/plain": [
       "\n",
       "\u001b[1;36m🤖 Exercise \u001b[0m\u001b[1;36m1\u001b[0m\u001b[1;36m: Agent Hello World - Solution\u001b[0m\n",
       "\n"
      ]
     },
     "metadata": {},
     "output_type": "display_data"
    },
    {
     "data": {
      "text/html": [
       "<pre style=\"white-space:pre;overflow-x:auto;line-height:normal;font-family:Menlo,'DejaVu Sans Mono',consolas,'Courier New',monospace\"><span style=\"color: #008000; text-decoration-color: #008000\">✓</span> Loaded environment variables from .env\n",
       "</pre>\n"
      ],
      "text/plain": [
       "\u001b[32m✓\u001b[0m Loaded environment variables from .env\n"
      ]
     },
     "metadata": {},
     "output_type": "display_data"
    }
   ],
   "source": [
    "import os\n",
    "from dotenv import load_dotenv\n",
    "from openai import OpenAI\n",
    "from rich.console import Console\n",
    "\n",
    "if not globals().get(\"ENV_LOADED\", False):\n",
    "    load_dotenv()\n",
    "    ENV_LOADED = True\n",
    "    env_status = \"Loaded environment variables from .env\"\n",
    "else:\n",
    "    env_status = \"Environment variables already loaded\"\n",
    "\n",
    "console = Console()\n",
    "\n",
    "console.print(\"\\n[bold cyan]🤖 Exercise 1: Agent Hello World - Solution[/bold cyan]\\n\")\n",
    "console.print(f\"[green]✓[/green] {env_status}\")"
   ]
  },
  {
   "cell_type": "markdown",
   "metadata": {},
   "source": [
    "## Define Tool Function"
   ]
  },
  {
   "cell_type": "code",
   "execution_count": 2,
   "metadata": {},
   "outputs": [],
   "source": [
    "def get_weather(location: str) -> str:\n",
    "    \"\"\"\n",
    "    Tool function: Get current weather for a location.\n",
    "    \"\"\"\n",
    "    weather_data = {\n",
    "        \"San Francisco\": \"sunny, 72°F\",\n",
    "        \"New York\": \"cloudy, 65°F\",\n",
    "        \"London\": \"rainy, 58°F\",\n",
    "        \"Tokyo\": \"clear, 70°F\",\n",
    "    }\n",
    "    weather = weather_data.get(location, \"partly cloudy, 68°F\")\n",
    "    return f\"The weather in {location} is {weather}\""
   ]
  },
  {
   "cell_type": "markdown",
   "metadata": {},
   "source": [
    "## Define Tool Schema"
   ]
  },
  {
   "cell_type": "code",
   "execution_count": 3,
   "metadata": {},
   "outputs": [],
   "source": [
    "tools = [\n",
    "    {\n",
    "        \"type\": \"function\",\n",
    "        \"function\": {\n",
    "            \"name\": \"get_weather\",\n",
    "            \"description\": \"Get the current weather for a location\",\n",
    "            \"parameters\": {\n",
    "                \"type\": \"object\",\n",
    "                \"properties\": {\n",
    "                    \"location\": {\n",
    "                        \"type\": \"string\",\n",
    "                        \"description\": \"The city name, e.g., San Francisco\",\n",
    "                    }\n",
    "                },\n",
    "                \"required\": [\"location\"],\n",
    "            },\n",
    "        },\n",
    "    }\n",
    "]"
   ]
  },
  {
   "cell_type": "markdown",
   "metadata": {},
   "source": [
    "## Initialize OpenAI Client"
   ]
  },
  {
   "cell_type": "code",
   "execution_count": 4,
   "metadata": {},
   "outputs": [
    {
     "data": {
      "text/html": [
       "<pre style=\"white-space:pre;overflow-x:auto;line-height:normal;font-family:Menlo,'DejaVu Sans Mono',consolas,'Courier New',monospace\"><span style=\"color: #008000; text-decoration-color: #008000\">✓</span> OPENAI_API_KEY detected: sk-s<span style=\"color: #808000; text-decoration-color: #808000\">...</span>WyoA\n",
       "</pre>\n"
      ],
      "text/plain": [
       "\u001b[32m✓\u001b[0m OPENAI_API_KEY detected: sk-s\u001b[33m...\u001b[0mWyoA\n"
      ]
     },
     "metadata": {},
     "output_type": "display_data"
    },
    {
     "data": {
      "text/html": [
       "<pre style=\"white-space:pre;overflow-x:auto;line-height:normal;font-family:Menlo,'DejaVu Sans Mono',consolas,'Courier New',monospace\"><span style=\"color: #008000; text-decoration-color: #008000\">✓</span> OpenAI client initialized\n",
       "</pre>\n"
      ],
      "text/plain": [
       "\u001b[32m✓\u001b[0m OpenAI client initialized\n"
      ]
     },
     "metadata": {},
     "output_type": "display_data"
    }
   ],
   "source": [
    "api_key = os.getenv(\"OPENAI_API_KEY\")\n",
    "if not api_key:\n",
    "    raise RuntimeError(\"OPENAI_API_KEY is not set. Add it to your environment or .env file.\")\n",
    "\n",
    "masked_key = f\"{api_key[:4]}...{api_key[-4:]}\" if len(api_key) >= 8 else \"***masked***\"\n",
    "console.print(f\"[green]✓[/green] OPENAI_API_KEY detected: {masked_key}\")\n",
    "client = OpenAI(api_key=api_key)\n",
    "console.print(\"[green]✓[/green] OpenAI client initialized\")"
   ]
  },
  {
   "cell_type": "markdown",
   "metadata": {},
   "source": [
    "## Run the Agent"
   ]
  },
  {
   "cell_type": "code",
   "execution_count": 5,
   "metadata": {},
   "outputs": [
    {
     "data": {
      "text/html": [
       "<pre style=\"white-space:pre;overflow-x:auto;line-height:normal;font-family:Menlo,'DejaVu Sans Mono',consolas,'Courier New',monospace\"><span style=\"color: #808000; text-decoration-color: #808000\">Query:</span> What's the weather like in San Francisco?\n",
       "\n",
       "</pre>\n"
      ],
      "text/plain": [
       "\u001b[33mQuery:\u001b[0m What's the weather like in San Francisco?\n",
       "\n"
      ]
     },
     "metadata": {},
     "output_type": "display_data"
    },
    {
     "data": {
      "text/html": [
       "<pre style=\"white-space:pre;overflow-x:auto;line-height:normal;font-family:Menlo,'DejaVu Sans Mono',consolas,'Courier New',monospace\"><span style=\"color: #008000; text-decoration-color: #008000\">🔧 Tool Called:</span>\n",
       "</pre>\n"
      ],
      "text/plain": [
       "\u001b[32m🔧 Tool Called:\u001b[0m\n"
      ]
     },
     "metadata": {},
     "output_type": "display_data"
    },
    {
     "data": {
      "text/html": [
       "<pre style=\"white-space:pre;overflow-x:auto;line-height:normal;font-family:Menlo,'DejaVu Sans Mono',consolas,'Courier New',monospace\">   <span style=\"color: #800080; text-decoration-color: #800080; font-weight: bold\">get_weather</span><span style=\"font-weight: bold\">({</span><span style=\"color: #008000; text-decoration-color: #008000\">'location'</span>: <span style=\"color: #008000; text-decoration-color: #008000\">'San Francisco'</span><span style=\"font-weight: bold\">})</span>\n",
       "</pre>\n"
      ],
      "text/plain": [
       "   \u001b[1;35mget_weather\u001b[0m\u001b[1m(\u001b[0m\u001b[1m{\u001b[0m\u001b[32m'location'\u001b[0m: \u001b[32m'San Francisco'\u001b[0m\u001b[1m}\u001b[0m\u001b[1m)\u001b[0m\n"
      ]
     },
     "metadata": {},
     "output_type": "display_data"
    },
    {
     "data": {
      "text/html": [
       "<pre style=\"white-space:pre;overflow-x:auto;line-height:normal;font-family:Menlo,'DejaVu Sans Mono',consolas,'Courier New',monospace\">\n",
       "<span style=\"color: #008000; text-decoration-color: #008000; font-weight: bold\">🤖 Agent Response:</span>\n",
       "The weather in San Francisco is sunny, with a temperature of <span style=\"color: #008080; text-decoration-color: #008080; font-weight: bold\">72</span>°F.\n",
       "\n",
       "</pre>\n"
      ],
      "text/plain": [
       "\n",
       "\u001b[1;32m🤖 Agent Response:\u001b[0m\n",
       "The weather in San Francisco is sunny, with a temperature of \u001b[1;36m72\u001b[0m°F.\n",
       "\n"
      ]
     },
     "metadata": {},
     "output_type": "display_data"
    }
   ],
   "source": [
    "query = \"What's the weather like in San Francisco?\"\n",
    "console.print(f\"[yellow]Query:[/yellow] {query}\\n\")\n",
    "\n",
    "# Initial API call\n",
    "messages = [{\"role\": \"user\", \"content\": query}]\n",
    "response = client.chat.completions.create(\n",
    "    model=\"gpt-4o-mini\",\n",
    "    messages=messages,\n",
    "    tools=tools,\n",
    ")\n",
    "\n",
    "# Check if model wants to call a tool\n",
    "response_message = response.choices[0].message\n",
    "tool_calls = response_message.tool_calls\n",
    "\n",
    "if tool_calls:\n",
    "    console.print(\"[green]🔧 Tool Called:[/green]\")\n",
    "    messages.append(response_message)\n",
    "    \n",
    "    for tool_call in tool_calls:\n",
    "        function_name = tool_call.function.name\n",
    "        function_args = eval(tool_call.function.arguments)\n",
    "        \n",
    "        console.print(f\"   {function_name}({function_args})\")\n",
    "        \n",
    "        # Call our tool function\n",
    "        if function_name == \"get_weather\":\n",
    "            function_response = get_weather(**function_args)\n",
    "            \n",
    "            # Add tool response to messages\n",
    "            messages.append({\n",
    "                \"tool_call_id\": tool_call.id,\n",
    "                \"role\": \"tool\",\n",
    "                \"name\": function_name,\n",
    "                \"content\": function_response,\n",
    "            })\n",
    "    \n",
    "    # Get final response\n",
    "    final_response = client.chat.completions.create(\n",
    "        model=\"gpt-4o-mini\",\n",
    "        messages=messages,\n",
    "    )\n",
    "    final_message = final_response.choices[0].message.content\n",
    "else:\n",
    "    final_message = response_message.content\n",
    "\n",
    "console.print(f\"\\n[bold green]🤖 Agent Response:[/bold green]\\n{final_message}\\n\")"
   ]
  }
 ],
 "metadata": {
  "kernelspec": {
   "display_name": "Python 3",
   "language": "python",
   "name": "python3"
  },
  "language_info": {
   "codemirror_mode": {
    "name": "ipython",
    "version": 3
   },
   "file_extension": ".py",
   "mimetype": "text/x-python",
   "name": "python",
   "nbconvert_exporter": "python",
   "pygments_lexer": "ipython3",
   "version": "3.11.13"
  }
 },
 "nbformat": 4,
 "nbformat_minor": 4
}
