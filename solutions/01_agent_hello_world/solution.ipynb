{
 "cells": [
  {
   "cell_type": "markdown",
   "metadata": {},
   "source": [
    "# Exercise 1: Agent Hello World - Solution\n",
    "\n",
    "Complete implementation of an AI agent using the OpenAI Agents SDK with a custom weather tool that calls the National Weather Service API."
   ]
  },
  {
   "cell_type": "markdown",
   "metadata": {},
   "source": [
    "## Setup\n",
    "\n",
    "Import the OpenAI Agents SDK and required libraries."
   ]
  },
  {
   "cell_type": "code",
   "execution_count": null,
   "metadata": {},
   "outputs": [],
   "source": [
    "%pip install --quiet openai-agents httpx python-dotenv nest-asyncio\n",
    "\n",
    "import os\n",
    "import asyncio\n",
    "import httpx\n",
    "from dotenv import load_dotenv\n",
    "from agents import Agent, Runner, function_tool\n",
    "\n",
    "# Load environment variables only once\n",
    "if not globals().get(\"ENV_LOADED\", False):\n",
    "    load_dotenv()\n",
    "    ENV_LOADED = True\n",
    "    env_status = \"Loaded environment variables from .env\"\n",
    "else:\n",
    "    env_status = \"Environment variables already loaded\"\n",
    "\n",
    "print(\"\\n🤖 Exercise 1: Agent Hello World - Solution\\n\")\n",
    "print(f\"✅ {env_status}\")"
   ]
  },
  {
   "cell_type": "markdown",
   "metadata": {},
   "source": [
    "## Step 1: Define a Weather Tool with @function_tool\n",
    "\n",
    "Create a custom tool that calls the National Weather Service API to get real weather alerts."
   ]
  },
  {
   "cell_type": "code",
   "execution_count": null,
   "metadata": {},
   "outputs": [],
   "source": [
    "@function_tool\n",
    "async def get_weather_alerts(state: str) -> str:\n",
    "    \"\"\"\n",
    "    Get current weather alerts for a US state from the National Weather Service.\n",
    "    \n",
    "    Args:\n",
    "        state: Two-letter US state code (e.g., 'CA', 'NY', 'TX')\n",
    "    \n",
    "    Returns:\n",
    "        String describing current weather alerts\n",
    "    \"\"\"\n",
    "    print(f\"🌐 Calling NWS API for state: {state}\")\n",
    "    \n",
    "    try:\n",
    "        # Call the National Weather Service API\n",
    "        url = f\"https://api.weather.gov/alerts/active/area/{state.upper()}\"\n",
    "        headers = {\"User-Agent\": \"OpenAI-Agents-Workshop (educational)\"}\n",
    "        \n",
    "        async with httpx.AsyncClient() as client:\n",
    "            response = await client.get(url, headers=headers, timeout=10.0)\n",
    "            response.raise_for_status()\n",
    "            \n",
    "            data = response.json()\n",
    "            features = data.get(\"features\", [])\n",
    "            \n",
    "            if not features:\n",
    "                print(f\"✅ No active alerts\")\n",
    "                return f\"No active weather alerts for {state.upper()}.\"\n",
    "            \n",
    "            # Extract alert information\n",
    "            alerts = []\n",
    "            for feature in features[:5]:  # Limit to first 5 alerts\n",
    "                properties = feature.get(\"properties\", {})\n",
    "                event = properties.get(\"event\", \"Unknown\")\n",
    "                headline = properties.get(\"headline\", \"No headline\")\n",
    "                severity = properties.get(\"severity\", \"Unknown\")\n",
    "                alerts.append(f\"- {event} ({severity}): {headline}\")\n",
    "            \n",
    "            result = f\"Active weather alerts for {state.upper()}:\\n\" + \"\\n\".join(alerts)\n",
    "            print(f\"✅ Found {len(features)} alert(s)\")\n",
    "            return result\n",
    "        \n",
    "    except httpx.HTTPError as e:\n",
    "        error_msg = f\"Failed to fetch weather alerts: {str(e)}\"\n",
    "        print(f\"❌ {error_msg}\")\n",
    "        return error_msg\n",
    "    except Exception as e:\n",
    "        error_msg = f\"Unexpected error: {str(e)}\"\n",
    "        print(f\"❌ {error_msg}\")\n",
    "        return error_msg\n",
    "\n",
    "print(\"✅ Weather tool defined with @function_tool\")\n",
    "print(\"ℹ️  This tool makes real API calls to weather.gov\")"
   ]
  },
  {
   "cell_type": "markdown",
   "metadata": {},
   "source": [
    "## Step 2: Create Agent with the Weather Tool\n",
    "\n",
    "Define the agent using the OpenAI Agents SDK with the custom weather tool."
   ]
  },
  {
   "cell_type": "code",
   "execution_count": null,
   "metadata": {},
   "outputs": [],
   "source": [
    "# Create agent with the custom weather tool\n",
    "agent = Agent(\n",
    "    name=\"Weather Agent\",\n",
    "    instructions=\"You help users get weather alert information for US states. Use the get_weather_alerts tool to fetch real data from the National Weather Service.\",\n",
    "    tools=[get_weather_alerts]\n",
    ")\n",
    "\n",
    "print(\"✅ Agent created with weather tool\")\n",
    "print(\"ℹ️  The agent can now fetch real weather alerts\")"
   ]
  },
  {
   "cell_type": "markdown",
   "metadata": {},
   "source": [
    "## Step 3: Verify OpenAI API Key\n",
    "\n",
    "Ensure the API key is configured before running the agent."
   ]
  },
  {
   "cell_type": "code",
   "execution_count": null,
   "metadata": {},
   "outputs": [
    {
     "data": {
      "text/html": [
       "<pre style=\"white-space:pre;overflow-x:auto;line-height:normal;font-family:Menlo,'DejaVu Sans Mono',consolas,'Courier New',monospace\"><span style=\"color: #008000; text-decoration-color: #008000\">✓</span> OPENAI_API_KEY detected: sk-s<span style=\"color: #808000; text-decoration-color: #808000\">...</span>WyoA\n",
       "</pre>\n"
      ],
      "text/plain": [
       "\u001b[32m✓\u001b[0m OPENAI_API_KEY detected: sk-s\u001b[33m...\u001b[0mWyoA\n"
      ]
     },
     "metadata": {},
     "output_type": "display_data"
    }
   ],
   "source": [
    "api_key = os.getenv(\"OPENAI_API_KEY\")\n",
    "if not api_key:\n",
    "    raise RuntimeError(\"OPENAI_API_KEY is not set. Add it to your .env file.\")\n",
    "\n",
    "masked_key = f\"{api_key[:4]}...{api_key[-4:]}\" if len(api_key) >= 8 else \"***\"\n",
    "print(f\"✅ OPENAI_API_KEY detected: {masked_key}\")"
   ]
  },
  {
   "cell_type": "markdown",
   "metadata": {},
   "source": [
    "## Step 4: Run the Agent\n",
    "\n",
    "Execute the agent with a weather query."
   ]
  },
  {
   "cell_type": "code",
   "execution_count": null,
   "metadata": {},
   "outputs": [],
   "source": [
    "async def run_solution():\n",
    "    query = \"Are there any weather alerts for California?\"\n",
    "    print(f\"\\nQuery: {query}\\n\")\n",
    "    \n",
    "    # Run the agent using the Agents SDK Runner\n",
    "    result = await Runner.run(agent, query)\n",
    "    \n",
    "    # Display the final output\n",
    "    print(f\"\\n🤖 Agent Response:\\n{result.final_output}\\n\")\n",
    "    print(\"ℹ️  This used a real API call to the National Weather Service!\\n\")\n",
    "\n",
    "# Jupyter-specific async handling (notebooks already have an event loop)\n",
    "# In a regular Python script, you would use: asyncio.run(run_solution())\n",
    "try:\n",
    "    loop = asyncio.get_running_loop()\n",
    "    import nest_asyncio\n",
    "    nest_asyncio.apply()\n",
    "    await run_solution()\n",
    "except RuntimeError:\n",
    "    asyncio.run(run_solution())"
   ]
  }
 ],
 "metadata": {
  "kernelspec": {
   "display_name": "Python 3",
   "language": "python",
   "name": "python3"
  },
  "language_info": {
   "codemirror_mode": {
    "name": "ipython",
    "version": 3
   },
   "file_extension": ".py",
   "mimetype": "text/x-python",
   "name": "python",
   "nbconvert_exporter": "python",
   "pygments_lexer": "ipython3",
   "version": "3.11.13"
  }
 },
 "nbformat": 4,
 "nbformat_minor": 4
}
