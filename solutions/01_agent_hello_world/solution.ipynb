{
 "cells": [
  {
   "cell_type": "markdown",
   "metadata": {},
   "source": "# Exercise 1: Agent Hello World - Solution\n\nComplete implementation of an AI agent using the OpenAI Agents SDK with a custom weather tool that calls the National Weather Service API."
  },
  {
   "cell_type": "markdown",
   "metadata": {},
   "source": [
    "## Setup\n",
    "\n",
    "Import the OpenAI Agents SDK and required libraries."
   ]
  },
  {
   "cell_type": "code",
   "execution_count": null,
   "metadata": {},
   "outputs": [],
   "source": "%pip install --quiet openai-agents httpx rich python-dotenv nest-asyncio\n\nimport os\nimport asyncio\nimport httpx\nfrom dotenv import load_dotenv\nfrom agents import Agent, Runner, function_tool\nfrom rich.console import Console\n\n# Load environment variables only once\nif not globals().get(\"ENV_LOADED\", False):\n    load_dotenv()\n    ENV_LOADED = True\n    env_status = \"Loaded environment variables from .env\"\nelse:\n    env_status = \"Environment variables already loaded\"\n\nconsole = Console()\n\nconsole.print(\"\\n[bold cyan]🤖 Exercise 1: Agent Hello World - Solution[/bold cyan]\\n\")\nconsole.print(f\"[green]✓[/green] {env_status}\")"
  },
  {
   "cell_type": "markdown",
   "metadata": {},
   "source": "## Step 1: Define a Weather Tool with @function_tool\n\nCreate a custom tool that calls the National Weather Service API to get real weather alerts."
  },
  {
   "cell_type": "code",
   "execution_count": null,
   "metadata": {},
   "outputs": [],
   "source": "@function_tool\nasync def get_weather_alerts(state: str) -> str:\n    \"\"\"\n    Get current weather alerts for a US state from the National Weather Service.\n    \n    Args:\n        state: Two-letter US state code (e.g., 'CA', 'NY', 'TX')\n    \n    Returns:\n        String describing current weather alerts\n    \"\"\"\n    console.print(f\"[cyan]🌐 Calling NWS API for state: {state}[/cyan]\")\n    \n    try:\n        # Call the National Weather Service API\n        url = f\"https://api.weather.gov/alerts/active/area/{state.upper()}\"\n        headers = {\"User-Agent\": \"OpenAI-Agents-Workshop (educational)\"}\n        \n        async with httpx.AsyncClient() as client:\n            response = await client.get(url, headers=headers, timeout=10.0)\n            response.raise_for_status()\n            \n            data = response.json()\n            features = data.get(\"features\", [])\n            \n            if not features:\n                console.print(f\"[green]✓[/green] No active alerts\")\n                return f\"No active weather alerts for {state.upper()}.\"\n            \n            # Extract alert information\n            alerts = []\n            for feature in features[:5]:  # Limit to first 5 alerts\n                properties = feature.get(\"properties\", {})\n                event = properties.get(\"event\", \"Unknown\")\n                headline = properties.get(\"headline\", \"No headline\")\n                severity = properties.get(\"severity\", \"Unknown\")\n                alerts.append(f\"- {event} ({severity}): {headline}\")\n            \n            result = f\"Active weather alerts for {state.upper()}:\\n\" + \"\\n\".join(alerts)\n            console.print(f\"[green]✓[/green] Found {len(features)} alert(s)\")\n            return result\n        \n    except httpx.HTTPError as e:\n        error_msg = f\"Failed to fetch weather alerts: {str(e)}\"\n        console.print(f\"[red]✗[/red] {error_msg}\")\n        return error_msg\n    except Exception as e:\n        error_msg = f\"Unexpected error: {str(e)}\"\n        console.print(f\"[red]✗[/red] {error_msg}\")\n        return error_msg\n\nconsole.print(\"[green]✓[/green] Weather tool defined with @function_tool\")\nconsole.print(\"[dim]ℹ️  This tool makes real API calls to weather.gov[/dim]\")"
  },
  {
   "cell_type": "markdown",
   "metadata": {},
   "source": "## Step 2: Create Agent with the Weather Tool\n\nDefine the agent using the OpenAI Agents SDK with the custom weather tool."
  },
  {
   "cell_type": "code",
   "execution_count": null,
   "metadata": {},
   "outputs": [],
   "source": "# Create agent with the custom weather tool\nagent = Agent(\n    name=\"Weather Agent\",\n    instructions=\"You help users get weather alert information for US states. Use the get_weather_alerts tool to fetch real data from the National Weather Service.\",\n    tools=[get_weather_alerts]\n)\n\nconsole.print(\"[green]✓[/green] Agent created with weather tool\")\nconsole.print(\"[dim]ℹ️  The agent can now fetch real weather alerts[/dim]\")"
  },
  {
   "cell_type": "markdown",
   "metadata": {},
   "source": [
    "## Step 3: Verify OpenAI API Key\n",
    "\n",
    "Ensure the API key is configured before running the agent."
   ]
  },
  {
   "cell_type": "code",
   "execution_count": 4,
   "metadata": {},
   "outputs": [
    {
     "data": {
      "text/html": [
       "<pre style=\"white-space:pre;overflow-x:auto;line-height:normal;font-family:Menlo,'DejaVu Sans Mono',consolas,'Courier New',monospace\"><span style=\"color: #008000; text-decoration-color: #008000\">✓</span> OPENAI_API_KEY detected: sk-s<span style=\"color: #808000; text-decoration-color: #808000\">...</span>WyoA\n",
       "</pre>\n"
      ],
      "text/plain": [
       "\u001b[32m✓\u001b[0m OPENAI_API_KEY detected: sk-s\u001b[33m...\u001b[0mWyoA\n"
      ]
     },
     "metadata": {},
     "output_type": "display_data"
    }
   ],
   "source": [
    "api_key = os.getenv(\"OPENAI_API_KEY\")\n",
    "if not api_key:\n",
    "    raise RuntimeError(\"OPENAI_API_KEY is not set. Add it to your .env file.\")\n",
    "\n",
    "masked_key = f\"{api_key[:4]}...{api_key[-4:]}\" if len(api_key) >= 8 else \"***masked***\"\n",
    "console.print(f\"[green]✓[/green] OPENAI_API_KEY detected: {masked_key}\")"
   ]
  },
  {
   "cell_type": "markdown",
   "metadata": {},
   "source": "## Step 4: Run the Agent\n\nExecute the agent with a weather query."
  },
  {
   "cell_type": "code",
   "execution_count": null,
   "metadata": {},
   "outputs": [],
   "source": "async def run_solution():\n    query = \"Are there any weather alerts for California?\"\n    console.print(f\"\\n[yellow]Query:[/yellow] {query}\\n\")\n    \n    # Run the agent using the Agents SDK Runner\n    result = await Runner.run(agent, query)\n    \n    # Display the final output\n    console.print(f\"\\n[bold green]🤖 Agent Response:[/bold green]\\n{result.final_output}\\n\")\n    console.print(\"[dim]ℹ️  This used a real API call to the National Weather Service![/dim]\\n\")\n\n# Jupyter-specific async handling (notebooks already have an event loop)\n# In a regular Python script, you would use: asyncio.run(run_solution())\ntry:\n    loop = asyncio.get_running_loop()\n    import nest_asyncio\n    nest_asyncio.apply()\n    await run_solution()\nexcept RuntimeError:\n    asyncio.run(run_solution())"
  }
 ],
 "metadata": {
  "kernelspec": {
   "display_name": "Python 3",
   "language": "python",
   "name": "python3"
  },
  "language_info": {
   "codemirror_mode": {
    "name": "ipython",
    "version": 3
   },
   "file_extension": ".py",
   "mimetype": "text/x-python",
   "name": "python",
   "nbconvert_exporter": "python",
   "pygments_lexer": "ipython3",
   "version": "3.11.13"
  }
 },
 "nbformat": 4,
 "nbformat_minor": 4
}