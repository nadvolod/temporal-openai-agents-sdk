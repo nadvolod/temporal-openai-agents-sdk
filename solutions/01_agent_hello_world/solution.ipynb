{
 "cells": [
  {
   "cell_type": "markdown",
   "metadata": {},
   "source": [
    "# Exercise 1: Agent Hello World - Solution\n",
    "\n",
    "Complete implementation of a simple AI agent with tool calling."
   ]
  },
  {
   "cell_type": "markdown",
   "metadata": {},
   "source": [
    "## Setup"
   ]
  },
  {
   "cell_type": "code",
   "execution_count": null,
   "metadata": {},
   "outputs": [],
   "source": [
    "import os\n",
    "from dotenv import load_dotenv\n",
    "from openai import OpenAI\n",
    "from rich.console import Console\n",
    "\n",
    "if not globals().get(\"ENV_LOADED\", False):\n",
    "    load_dotenv()\n",
    "    ENV_LOADED = True\n",
    "    env_status = \"Loaded environment variables from .env\"\n",
    "else:\n",
    "    env_status = \"Environment variables already loaded\"\n",
    "\n",
    "console = Console()\n",
    "\n",
    "console.print(\"\\n[bold cyan]🤖 Exercise 1: Agent Hello World - Solution[/bold cyan]\\n\")\n",
    "console.print(f\"[green]✓[/green] {env_status}\")"
   ]
  },
  {
   "cell_type": "markdown",
   "metadata": {},
   "source": [
    "## Define Tool Function"
   ]
  },
  {
   "cell_type": "code",
   "execution_count": null,
   "metadata": {},
   "outputs": [],
   "source": [
    "def get_weather(location: str) -> str:\n",
    "    \"\"\"\n",
    "    Tool function: Get current weather for a location.\n",
    "    \"\"\"\n",
    "    weather_data = {\n",
    "        \"San Francisco\": \"sunny, 72°F\",\n",
    "        \"New York\": \"cloudy, 65°F\",\n",
    "        \"London\": \"rainy, 58°F\",\n",
    "        \"Tokyo\": \"clear, 70°F\",\n",
    "    }\n",
    "    weather = weather_data.get(location, \"partly cloudy, 68°F\")\n",
    "    return f\"The weather in {location} is {weather}\""
   ]
  },
  {
   "cell_type": "markdown",
   "metadata": {},
   "source": [
    "## Define Tool Schema"
   ]
  },
  {
   "cell_type": "code",
   "execution_count": null,
   "metadata": {},
   "outputs": [],
   "source": [
    "tools = [\n",
    "    {\n",
    "        \"type\": \"function\",\n",
    "        \"function\": {\n",
    "            \"name\": \"get_weather\",\n",
    "            \"description\": \"Get the current weather for a location\",\n",
    "            \"parameters\": {\n",
    "                \"type\": \"object\",\n",
    "                \"properties\": {\n",
    "                    \"location\": {\n",
    "                        \"type\": \"string\",\n",
    "                        \"description\": \"The city name, e.g., San Francisco\",\n",
    "                    }\n",
    "                },\n",
    "                \"required\": [\"location\"],\n",
    "            },\n",
    "        },\n",
    "    }\n",
    "]"
   ]
  },
  {
   "cell_type": "markdown",
   "metadata": {},
   "source": [
    "## Initialize OpenAI Client"
   ]
  },
  {
   "cell_type": "code",
   "execution_count": null,
   "metadata": {},
   "outputs": [],
   "source": [
    "api_key = os.getenv(\"OPENAI_API_KEY\")\n",
    "if not api_key:\n",
    "    raise RuntimeError(\"OPENAI_API_KEY is not set. Add it to your environment or .env file.\")\n",
    "\n",
    "masked_key = f\"{api_key[:4]}...{api_key[-4:]}\" if len(api_key) >= 8 else \"***masked***\"\n",
    "console.print(f\"[green]✓[/green] OPENAI_API_KEY detected: {masked_key}\")\n",
    "client = OpenAI(api_key=api_key)\n",
    "console.print(\"[green]✓[/green] OpenAI client initialized\")"
   ]
  },
  {
   "cell_type": "markdown",
   "metadata": {},
   "source": [
    "## Run the Agent"
   ]
  },
  {
   "cell_type": "code",
   "execution_count": null,
   "metadata": {},
   "outputs": [],
   "source": [
    "query = \"What's the weather like in NY?\"\n",
    "console.print(f\"[yellow]Query:[/yellow] {query}\\n\")\n",
    "\n",
    "# Initial API call\n",
    "messages = [{\"role\": \"user\", \"content\": query}]\n",
    "response = client.chat.completions.create(\n",
    "    model=\"gpt-4o-mini\",\n",
    "    messages=messages,\n",
    "    tools=tools,\n",
    ")\n",
    "\n",
    "# Check if model wants to call a tool\n",
    "response_message = response.choices[0].message\n",
    "tool_calls = response_message.tool_calls\n",
    "\n",
    "if tool_calls:\n",
    "    console.print(\"[green]🔧 Tool Called:[/green]\")\n",
    "    messages.append(response_message)\n",
    "    \n",
    "    for tool_call in tool_calls:\n",
    "        function_name = tool_call.function.name\n",
    "        function_args = eval(tool_call.function.arguments)\n",
    "        \n",
    "        console.print(f\"   {function_name}({function_args})\")\n",
    "        \n",
    "        # Call our tool function\n",
    "        if function_name == \"get_weather\":\n",
    "            function_response = get_weather(**function_args)\n",
    "            \n",
    "            # Add tool response to messages\n",
    "            messages.append({\n",
    "                \"tool_call_id\": tool_call.id,\n",
    "                \"role\": \"tool\",\n",
    "                \"name\": function_name,\n",
    "                \"content\": function_response,\n",
    "            })\n",
    "    \n",
    "    # Get final response\n",
    "    final_response = client.chat.completions.create(\n",
    "        model=\"gpt-4o-mini\",\n",
    "        messages=messages,\n",
    "    )\n",
    "    final_message = final_response.choices[0].message.content\n",
    "else:\n",
    "    final_message = response_message.content\n",
    "\n",
    "console.print(f\"\\n[bold green]🤖 Agent Response:[/bold green]\\n{final_message}\\n\")"
   ]
  }
 ],
 "metadata": {
  "kernelspec": {
   "display_name": "Python 3",
   "language": "python",
   "name": "python3"
  },
  "language_info": {
   "codemirror_mode": {
    "name": "ipython",
    "version": 3
   },
   "file_extension": ".py",
   "mimetype": "text/x-python",
   "name": "python",
   "nbconvert_exporter": "python",
   "pygments_lexer": "ipython3",
   "version": "3.11.13"
  }
 },
 "nbformat": 4,
 "nbformat_minor": 4
}
