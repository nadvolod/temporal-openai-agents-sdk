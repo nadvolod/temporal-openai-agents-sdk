{
 "cells": [
  {
   "cell_type": "markdown",
   "id": "16aec450",
   "metadata": {},
   "source": [
    "# Exercise 4: Multi-Agent Handoff — Solution\n",
    "\n",
    "Complete implementation of the multi-agent handoff workflow with Temporal orchestration."
   ]
  },
  {
   "cell_type": "markdown",
   "id": "1160575b",
   "metadata": {},
   "source": [
    "## Setup\n",
    "\n",
    "Before doing the exercise, you need to:\n",
    "\n",
    "- Install necessary dependencies\n",
    "- Create your `.env` file and supply your API key\n",
    "- Load the environment variables\n",
    "- Download and start a local Temporal Service"
   ]
  },
  {
   "cell_type": "markdown",
   "id": "5699d15c",
   "metadata": {},
   "source": [
    "## Run the Solution\n",
    "\n",
    "Execute the solution workflow to observe agent handoffs."
   ]
  },
  {
   "cell_type": "code",
   "execution_count": null,
   "id": "f05a1c9f",
   "metadata": {},
   "outputs": [
    {
     "data": {
      "text/html": [
       "<pre style=\"white-space:pre;overflow-x:auto;line-height:normal;font-family:Menlo,'DejaVu Sans Mono',consolas,'Courier New',monospace\">\n",
       "<span style=\"color: #008080; text-decoration-color: #008080; font-weight: bold\">🚀 Exercise </span><span style=\"color: #008080; text-decoration-color: #008080; font-weight: bold\">4</span><span style=\"color: #008080; text-decoration-color: #008080; font-weight: bold\">: Multi-Agent Handoff — Solution</span>\n",
       "\n",
       "</pre>\n"
      ],
      "text/plain": [
       "\n",
       "\u001b[1;36m🚀 Exercise \u001b[0m\u001b[1;36m4\u001b[0m\u001b[1;36m: Multi-Agent Handoff — Solution\u001b[0m\n",
       "\n"
      ]
     },
     "metadata": {},
     "output_type": "display_data"
    },
    {
     "data": {
      "text/html": [
       "<pre style=\"white-space:pre;overflow-x:auto;line-height:normal;font-family:Menlo,'DejaVu Sans Mono',consolas,'Courier New',monospace\"><span style=\"color: #808000; text-decoration-color: #808000\">Trace ID:</span> <span style=\"color: #ffff00; text-decoration-color: #ffff00\">bf7e4a3f-1c60-4d91-9540-8a486796a9ab</span>\n",
       "\n",
       "</pre>\n"
      ],
      "text/plain": [
       "\u001b[33mTrace ID:\u001b[0m \u001b[93mbf7e4a3f-1c60-4d91-9540-8a486796a9ab\u001b[0m\n",
       "\n"
      ]
     },
     "metadata": {},
     "output_type": "display_data"
    },
    {
     "data": {
      "text/html": [
       "<pre style=\"white-space:pre;overflow-x:auto;line-height:normal;font-family:Menlo,'DejaVu Sans Mono',consolas,'Courier New',monospace\"><span style=\"color: #808000; text-decoration-color: #808000\">Query:</span> What's the weather like in London and what time is it there?\n",
       "\n",
       "</pre>\n"
      ],
      "text/plain": [
       "\u001b[33mQuery:\u001b[0m What's the weather like in London and what time is it there?\n",
       "\n"
      ]
     },
     "metadata": {},
     "output_type": "display_data"
    },
    {
     "data": {
      "text/html": [
       "<pre style=\"white-space:pre;overflow-x:auto;line-height:normal;font-family:Menlo,'DejaVu Sans Mono',consolas,'Courier New',monospace\">\n",
       "<span style=\"color: #008000; text-decoration-color: #008000; font-weight: bold\">✅ Final Response:</span>\n",
       "Query routed to general agent <span style=\"font-weight: bold\">(</span>not implemented in this exercise<span style=\"font-weight: bold\">)</span>\n",
       "\n",
       "</pre>\n"
      ],
      "text/plain": [
       "\n",
       "\u001b[1;32m✅ Final Response:\u001b[0m\n",
       "Query routed to general agent \u001b[1m(\u001b[0mnot implemented in this exercise\u001b[1m)\u001b[0m\n",
       "\n"
      ]
     },
     "metadata": {},
     "output_type": "display_data"
    },
    {
     "data": {
      "text/html": [
       "<pre style=\"white-space:pre;overflow-x:auto;line-height:normal;font-family:Menlo,'DejaVu Sans Mono',consolas,'Courier New',monospace\"><span style=\"color: #808000; text-decoration-color: #808000\">View in Temporal UI:</span> \n",
       "<span style=\"color: #0000ff; text-decoration-color: #0000ff; text-decoration: underline\">http://localhost:8233/namespaces/default/workflows/multi-agent-bf7e4a3f-1c60-4d91-9540-8a486796a9ab</span>\n",
       "</pre>\n"
      ],
      "text/plain": [
       "\u001b[33mView in Temporal UI:\u001b[0m \n",
       "\u001b[4;94mhttp://localhost:8233/namespaces/default/workflows/multi-agent-bf7e4a3f-1c60-4d91-9540-8a486796a9ab\u001b[0m\n"
      ]
     },
     "metadata": {},
     "output_type": "display_data"
    },
    {
     "data": {
      "text/html": [
       "<pre style=\"white-space:pre;overflow-x:auto;line-height:normal;font-family:Menlo,'DejaVu Sans Mono',consolas,'Courier New',monospace\"><span style=\"color: #808000; text-decoration-color: #808000\">Trace ID:</span> <span style=\"color: #ffff00; text-decoration-color: #ffff00\">bf7e4a3f-1c60-4d91-9540-8a486796a9ab</span>\n",
       "\n",
       "</pre>\n"
      ],
      "text/plain": [
       "\u001b[33mTrace ID:\u001b[0m \u001b[93mbf7e4a3f-1c60-4d91-9540-8a486796a9ab\u001b[0m\n",
       "\n"
      ]
     },
     "metadata": {},
     "output_type": "display_data"
    }
   ],
   "source": [
    "# Run the multi-agent handoff solution\n",
    "async def run_solution() -> None:\n",
    "    # Introduce the demo execution in the notebook\n",
    "    print(\"\\n🚀 Exercise 4: Multi-Agent Handoff — Solution\\n\")\n",
    "\n",
    "    # Create a unique identifier to correlate workflow and traces\n",
    "    trace_id = str(uuid.uuid4())\n",
    "    # Display the trace identifier for manual debugging\n",
    "    print(f\"Trace ID: {trace_id}\\n\")\n",
    "\n",
    "    # Establish a connection to the local Temporal server\n",
    "    client = await Client.connect(\"localhost:7233\")\n",
    "    # Specify the worker task queue dedicated to this example\n",
    "    task_queue = \"multi-agent-queue\"\n",
    "\n",
    "    # Start a Temporal worker hosting the workflow and activities\n",
    "    async with Worker(\n",
    "        client,\n",
    "        task_queue=task_queue,\n",
    "        workflows=[MultiAgentWorkflow],\n",
    "        activities=[triage_query, weather_agent, time_agent, get_weather, get_time],\n",
    "        workflow_runner=UnsandboxedWorkflowRunner(),\n",
    "        debug_mode=True,\n",
    "    ):\n",
    "        # Seed the example with a combined weather and time question\n",
    "        query = \"What's the weather like in London and what time is it there?\"\n",
    "        # Derive a workflow ID that embeds the trace reference\n",
    "        workflow_id = f\"multi-agent-{trace_id}\"\n",
    "\n",
    "        # Display the query being routed through the workflow\n",
    "        print(f\"Query: {query}\\n\")\n",
    "\n",
    "        # Execute the workflow and wait for its final response\n",
    "        result = await client.execute_workflow(\n",
    "            MultiAgentWorkflow.run,\n",
    "            args=[query, trace_id],\n",
    "            id=workflow_id,\n",
    "            task_queue=task_queue,\n",
    "        )\n",
    "\n",
    "    # Show the natural language outcome returned by the agent chain\n",
    "    print(f\"\\n✅ Final Response:\\n{result}\\n\")\n",
    "    # Point operators to the Temporal UI entry for deeper inspection\n",
    "    print(\n",
    "        f\"View in Temporal UI: \"\n",
    "        f\"http://localhost:8233/namespaces/default/workflows/{workflow_id}\"\n",
    "    )\n",
    "    # Echo the trace ID again for quick copy/paste access\n",
    "    print(f\"Trace ID: {trace_id}\\n\")\n",
    "\n",
    "# Detect whether the notebook already has an active event loop\n",
    "try:\n",
    "    loop = asyncio.get_running_loop()\n",
    "except RuntimeError:\n",
    "    # No loop means we can safely drive execution with asyncio.run\n",
    "    asyncio.run(run_solution())\n",
    "else:\n",
    "    # Apply nest_asyncio so we can reuse the existing notebook loop\n",
    "    import nest_asyncio\n",
    "    nest_asyncio.apply()\n",
    "    # Schedule the solution coroutine on the current loop\n",
    "    task = loop.create_task(run_solution())\n",
    "    # Ensure the scheduled task completes before moving on\n",
    "    await task"
   ]
  },
  {
   "cell_type": "markdown",
   "id": "d76d07c6",
   "metadata": {},
   "source": [
    "## Source Code\n",
    "\n",
    "The workflow orchestration and activity implementations are defined above in the first code cell."
   ]
  }
 ],
 "metadata": {
  "kernelspec": {
   "display_name": "Python 3",
   "language": "python",
   "name": "python3"
  },
  "language_info": {
   "codemirror_mode": {
    "name": "ipython",
    "version": 3
   },
   "file_extension": ".py",
   "mimetype": "text/x-python",
   "name": "python",
   "nbconvert_exporter": "python",
   "pygments_lexer": "ipython3",
   "version": "3.11.13"
  }
 },
 "nbformat": 4,
 "nbformat_minor": 5
}
