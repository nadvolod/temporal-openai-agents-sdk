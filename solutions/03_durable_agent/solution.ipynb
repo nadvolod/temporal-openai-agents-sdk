{
 "cells": [
  {
   "cell_type": "markdown",
   "id": "29834b7d",
   "metadata": {},
   "source": [
    "# Exercise 3: Durable Agent — Solution\n",
    "\n",
    "Complete implementation combining OpenAI agents with Temporal for durability."
   ]
  },
  {
   "cell_type": "markdown",
   "id": "0aa69615",
   "metadata": {},
   "source": [
    "## Prerequisites\n",
    "\n",
    "Ensure the Temporal dev server is running and `.env` contains your OpenAI credentials."
   ]
  },
  {
   "cell_type": "code",
   "execution_count": 1,
   "id": "28f6609a",
   "metadata": {},
   "outputs": [
    {
     "name": "stdout",
     "output_type": "stream",
     "text": [
      "\n",
      "\u001b[1m[\u001b[0m\u001b[34;49mnotice\u001b[0m\u001b[1;39;49m]\u001b[0m\u001b[39;49m A new release of pip is available: \u001b[0m\u001b[31;49m24.0\u001b[0m\u001b[39;49m -> \u001b[0m\u001b[32;49m25.2\u001b[0m\n",
      "\u001b[1m[\u001b[0m\u001b[34;49mnotice\u001b[0m\u001b[1;39;49m]\u001b[0m\u001b[39;49m To update, run: \u001b[0m\u001b[32;49mpip install --upgrade pip\u001b[0m\n",
      "Note: you may need to restart the kernel to use updated packages.\n"
     ]
    }
   ],
   "source": [
    "%pip install --quiet temporalio openai rich\n",
    "\n",
    "import os\n",
    "import asyncio\n",
    "import uuid\n",
    "from datetime import timedelta\n",
    "from openai import OpenAI\n",
    "from rich.console import Console\n",
    "from temporalio import activity, workflow\n",
    "from temporalio.client import Client\n",
    "from temporalio.worker import Worker\n",
    "from temporalio.common import RetryPolicy\n",
    "\n",
    "console = Console()\n"
   ]
  },
  {
   "cell_type": "markdown",
   "id": "de44d61e",
   "metadata": {},
   "source": [
    "## Run the Solution\n",
    "\n",
    "Execute the workflow and observe durable behavior with retries."
   ]
  },
  {
   "cell_type": "code",
   "execution_count": 2,
   "id": "39181faf",
   "metadata": {},
   "outputs": [
    {
     "ename": "RuntimeError",
     "evalue": "asyncio.run() cannot be called from a running event loop",
     "output_type": "error",
     "traceback": [
      "\u001b[31m---------------------------------------------------------------------------\u001b[39m",
      "\u001b[31mRuntimeError\u001b[39m                              Traceback (most recent call last)",
      "\u001b[36mCell\u001b[39m\u001b[36m \u001b[39m\u001b[32mIn[2]\u001b[39m\u001b[32m, line 36\u001b[39m\n\u001b[32m     30\u001b[39m     console.print(\n\u001b[32m     31\u001b[39m         \u001b[33mf\u001b[39m\u001b[33m\"\u001b[39m\u001b[33m[yellow]View in Temporal UI:[/yellow] \u001b[39m\u001b[33m\"\u001b[39m\n\u001b[32m     32\u001b[39m         \u001b[33mf\u001b[39m\u001b[33m\"\u001b[39m\u001b[33mhttp://localhost:8233/namespaces/default/workflows/\u001b[39m\u001b[38;5;132;01m{\u001b[39;00mworkflow_id\u001b[38;5;132;01m}\u001b[39;00m\u001b[33m\"\u001b[39m\n\u001b[32m     33\u001b[39m     )\n\u001b[32m     34\u001b[39m     console.print(\u001b[33mf\u001b[39m\u001b[33m\"\u001b[39m\u001b[33m[yellow]Trace ID for correlation:[/yellow] \u001b[39m\u001b[38;5;132;01m{\u001b[39;00mtrace_id\u001b[38;5;132;01m}\u001b[39;00m\u001b[38;5;130;01m\\n\u001b[39;00m\u001b[33m\"\u001b[39m)\n\u001b[32m---> \u001b[39m\u001b[32m36\u001b[39m \u001b[43masyncio\u001b[49m\u001b[43m.\u001b[49m\u001b[43mrun\u001b[49m\u001b[43m(\u001b[49m\u001b[43mrun_solution\u001b[49m\u001b[43m(\u001b[49m\u001b[43m)\u001b[49m\u001b[43m)\u001b[49m\n",
      "\u001b[36mFile \u001b[39m\u001b[32m/usr/local/lib/python3.11/asyncio/runners.py:186\u001b[39m, in \u001b[36mrun\u001b[39m\u001b[34m(main, debug)\u001b[39m\n\u001b[32m    161\u001b[39m \u001b[38;5;250m\u001b[39m\u001b[33;03m\"\"\"Execute the coroutine and return the result.\u001b[39;00m\n\u001b[32m    162\u001b[39m \n\u001b[32m    163\u001b[39m \u001b[33;03mThis function runs the passed coroutine, taking care of\u001b[39;00m\n\u001b[32m   (...)\u001b[39m\u001b[32m    182\u001b[39m \u001b[33;03m    asyncio.run(main())\u001b[39;00m\n\u001b[32m    183\u001b[39m \u001b[33;03m\"\"\"\u001b[39;00m\n\u001b[32m    184\u001b[39m \u001b[38;5;28;01mif\u001b[39;00m events._get_running_loop() \u001b[38;5;129;01mis\u001b[39;00m \u001b[38;5;129;01mnot\u001b[39;00m \u001b[38;5;28;01mNone\u001b[39;00m:\n\u001b[32m    185\u001b[39m     \u001b[38;5;66;03m# fail fast with short traceback\u001b[39;00m\n\u001b[32m--> \u001b[39m\u001b[32m186\u001b[39m     \u001b[38;5;28;01mraise\u001b[39;00m \u001b[38;5;167;01mRuntimeError\u001b[39;00m(\n\u001b[32m    187\u001b[39m         \u001b[33m\"\u001b[39m\u001b[33masyncio.run() cannot be called from a running event loop\u001b[39m\u001b[33m\"\u001b[39m)\n\u001b[32m    189\u001b[39m \u001b[38;5;28;01mwith\u001b[39;00m Runner(debug=debug) \u001b[38;5;28;01mas\u001b[39;00m runner:\n\u001b[32m    190\u001b[39m     \u001b[38;5;28;01mreturn\u001b[39;00m runner.run(main)\n",
      "\u001b[31mRuntimeError\u001b[39m: asyncio.run() cannot be called from a running event loop"
     ]
    }
   ],
   "source": [
    "# Run the durable agent solution\n",
    "async def run_solution() -> None:\n",
    "    console.print(\"\\n[bold cyan]🚀 Exercise 3: Durable Agent — Solution[/bold cyan]\\n\")\n",
    "\n",
    "    trace_id = str(uuid.uuid4())\n",
    "    console.print(f\"[yellow]Trace ID:[/yellow] {trace_id}\\n\")\n",
    "\n",
    "    client = await Client.connect(\"localhost:7233\")\n",
    "    task_queue = \"durable-agent-queue\"\n",
    "\n",
    "    async with Worker(\n",
    "        client,\n",
    "        task_queue=task_queue,\n",
    "        workflows=[DurableAgentWorkflow],\n",
    "        activities=[call_agent_with_tools],\n",
    "    ):\n",
    "        query = \"What's the weather like in San Francisco?\"\n",
    "        workflow_id = f\"durable-agent-{trace_id}\"\n",
    "\n",
    "        console.print(f\"[yellow]Query:[/yellow] {query}\\n\")\n",
    "\n",
    "        result = await client.execute_workflow(\n",
    "            DurableAgentWorkflow.run,\n",
    "            args=[query, trace_id],\n",
    "            id=workflow_id,\n",
    "            task_queue=task_queue,\n",
    "        )\n",
    "\n",
    "    console.print(f\"\\n[bold green]🤖 Agent Response:[/bold green]\\n{result}\\n\")\n",
    "    console.print(\n",
    "        f\"[yellow]View in Temporal UI:[/yellow] \"\n",
    "        f\"http://localhost:8233/namespaces/default/workflows/{workflow_id}\"\n",
    "    )\n",
    "    console.print(f\"[yellow]Trace ID for correlation:[/yellow] {trace_id}\\n\")\n",
    "\n",
    "asyncio.run(run_solution())\n"
   ]
  },
  {
   "cell_type": "markdown",
   "id": "663a2ebc",
   "metadata": {},
   "source": [
    "## Source Code\n",
    "\n",
    "Inspect the solution modules below."
   ]
  },
  {
   "cell_type": "code",
   "execution_count": null,
   "id": "62ab66e1",
   "metadata": {},
   "outputs": [],
   "source": [
    "def get_weather(location: str) -> str:\n",
    "    weather_data = {\n",
    "        \"San Francisco\": \"sunny, 72°F\",\n",
    "        \"New York\": \"cloudy, 65°F\",\n",
    "        \"London\": \"rainy, 58°F\",\n",
    "        \"Tokyo\": \"clear, 70°F\",\n",
    "    }\n",
    "    weather = weather_data.get(location, \"partly cloudy, 68°F\")\n",
    "    return f\"The weather in {location} is {weather}\"\n",
    "\n",
    "\n",
    "@activity.defn\n",
    "async def call_agent_with_tools(query: str, trace_id: str) -> str:\n",
    "    activity.logger.info(\"🤖 Activity started\")\n",
    "    activity.logger.info(f\"   Query: {query}\")\n",
    "    activity.logger.info(f\"   Trace ID: {trace_id}\")\n",
    "\n",
    "    client = OpenAI(api_key=os.getenv(\"OPENAI_API_KEY\"))\n",
    "\n",
    "    tools = [\n",
    "        {\n",
    "            \"type\": \"function\",\n",
    "            \"function\": {\n",
    "                \"name\": \"get_weather\",\n",
    "                \"description\": \"Get the current weather for a location\",\n",
    "                \"parameters\": {\n",
    "                    \"type\": \"object\",\n",
    "                    \"properties\": {\n",
    "                        \"location\": {\n",
    "                            \"type\": \"string\",\n",
    "                            \"description\": \"The city name\",\n",
    "                        }\n",
    "                    },\n",
    "                    \"required\": [\"location\"],\n",
    "                },\n",
    "            },\n",
    "        }\n",
    "    ]\n",
    "\n",
    "    messages = [{\"role\": \"user\", \"content\": query}]\n",
    "    response = client.chat.completions.create(\n",
    "        model=\"gpt-4o-mini\",\n",
    "        messages=messages,\n",
    "        tools=tools,\n",
    "    )\n",
    "\n",
    "    response_message = response.choices[0].message\n",
    "    tool_calls = response_message.tool_calls\n",
    "\n",
    "    if tool_calls:\n",
    "        activity.logger.info(f\"🔧 Tool calls detected: {len(tool_calls)}\")\n",
    "        messages.append(response_message)\n",
    "\n",
    "        for tool_call in tool_calls:\n",
    "            function_name = tool_call.function.name\n",
    "            function_args = eval(tool_call.function.arguments)\n",
    "            activity.logger.info(f\"   Calling: {function_name}({function_args})\")\n",
    "\n",
    "            if function_name == \"get_weather\":\n",
    "                function_response = get_weather(**function_args)\n",
    "                messages.append(\n",
    "                    {\n",
    "                        \"tool_call_id\": tool_call.id,\n",
    "                        \"role\": \"tool\",\n",
    "                        \"name\": function_name,\n",
    "                        \"content\": function_response,\n",
    "                    }\n",
    "                )\n",
    "\n",
    "        final_response = client.chat.completions.create(\n",
    "            model=\"gpt-4o-mini\",\n",
    "            messages=messages,\n",
    "        )\n",
    "        final_message = final_response.choices[0].message.content\n",
    "    else:\n",
    "        final_message = response_message.content\n",
    "\n",
    "    activity.logger.info(\"✅ Activity completed\")\n",
    "    return final_message\n",
    "\n",
    "\n",
    "@workflow.defn\n",
    "class DurableAgentWorkflow:\n",
    "    @workflow.run\n",
    "    async def run(self, query: str, trace_id: str) -> str:\n",
    "        workflow.logger.info(\"🚀 Durable agent workflow started\")\n",
    "        workflow.logger.info(f\"   Query: {query}\")\n",
    "        workflow.logger.info(f\"   Trace ID: {trace_id}\")\n",
    "\n",
    "        result = await workflow.execute_activity(\n",
    "            call_agent_with_tools,\n",
    "            args=[query, trace_id],\n",
    "            start_to_close_timeout=timedelta(seconds=30),\n",
    "            retry_policy=RetryPolicy(\n",
    "                initial_interval=timedelta(seconds=1),\n",
    "                maximum_interval=timedelta(seconds=10),\n",
    "                maximum_attempts=3,\n",
    "                backoff_coefficient=2.0,\n",
    "            ),\n",
    "        )\n",
    "\n",
    "        workflow.logger.info(\"✅ Workflow completed successfully\")\n",
    "        return result\n"
   ]
  }
 ],
 "metadata": {
  "kernelspec": {
   "display_name": "Python 3",
   "language": "python",
   "name": "python3"
  },
  "language_info": {
   "codemirror_mode": {
    "name": "ipython",
    "version": 3
   },
   "file_extension": ".py",
   "mimetype": "text/x-python",
   "name": "python",
   "nbconvert_exporter": "python",
   "pygments_lexer": "ipython3",
   "version": "3.11.13"
  }
 },
 "nbformat": 4,
 "nbformat_minor": 5
}
