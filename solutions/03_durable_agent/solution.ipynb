{
 "cells": [
  {
   "cell_type": "markdown",
   "id": "29834b7d",
   "metadata": {},
   "source": "# Exercise 3: Durable Agent — Solution\n\nComplete implementation combining **OpenAI Agents SDK** with **Temporal** for durability.\n\nThis solution demonstrates how Temporal automatically retries failed operations, making your AI agents resilient to network failures and other transient errors.\n\n## Architecture\n\nThis solution follows a **4-component pattern** that mirrors production Temporal applications:\n\n1. **`activities.py`** - Defines the weather activity\n2. **`workflow.py`** - Defines the workflow orchestration\n3. **`worker.py`** - Runs the worker that executes workflows/activities\n4. **`starter.py`** - Executes the workflow\n\nEach component is implemented in a separate Jupyter cell below for clarity."
  },
  {
   "cell_type": "markdown",
   "id": "0aa69615",
   "metadata": {},
   "source": "## Prerequisites\n\n1. **Temporal dev server must be running:**\n   ```bash\n   temporal server start-dev\n   ```\n\n2. **OpenAI API key configured:**\n   ```bash\n   export OPENAI_API_KEY=sk-your-key-here\n   ```\n\n3. **Internet connection:** Required for National Weather Service API\n\n## Setup\n\nInstall dependencies:"
  },
  {
   "cell_type": "code",
   "execution_count": null,
   "id": "28f6609a",
   "metadata": {},
   "outputs": [],
   "source": "%pip install --quiet temporalio openai-agents httpx nest-asyncio pytz\n\n# Import all required modules\nimport asyncio\nimport httpx\nfrom datetime import timedelta, datetime\nimport pytz\nfrom temporalio import activity, workflow\nfrom temporalio.client import Client\nfrom temporalio.worker import Worker\nfrom temporalio.contrib import openai_agents\nfrom temporalio.contrib.openai_agents import OpenAIAgentsPlugin, ModelActivityParameters\nfrom temporalio.worker.workflow_sandbox import SandboxedWorkflowRunner, SandboxRestrictions\nfrom agents import Agent, Runner\n\nprint(\"✅ All imports successful\")"
  },
  {
   "cell_type": "markdown",
   "id": "de44d61e",
   "metadata": {},
   "source": "## Component 1: `activities.py`\n\nDefine the weather activity that fetches alerts from the National Weather Service API.\n\n**Key points:**\n- Returns a `dict` (not formatted string) so the LLM can interpret the data\n- Activity name explicitly set with `@activity.defn(name=\"get_weather\")`\n- Simple error handling - just `raise_for_status()` and let Temporal retry\n- No console logging or attempt tracking needed"
  },
  {
   "cell_type": "code",
   "execution_count": null,
   "id": "ac13ca86",
   "metadata": {},
   "outputs": [],
   "source": "@activity.defn(name=\"get_weather\")\nasync def get_weather(state: str) -> dict:\n    \"\"\"Fetch active NWS alerts for a 2-letter US state code (e.g., 'CA').\"\"\"\n    headers = {\"User-Agent\": \"Temporal-Agents-Workshop/1.0 (educational@example.com)\"}\n    async with httpx.AsyncClient(timeout=10) as client:\n        r = await client.get(\n            f\"https://api.weather.gov/alerts/active/area/{state}\",\n            headers=headers\n        )\n        r.raise_for_status()\n        data = r.json()\n\n    alerts = []\n    for f in (data.get(\"features\") or [])[:5]:\n        p = f.get(\"properties\", {})\n        alerts.append({\n            \"event\": p.get(\"event\"),\n            \"headline\": p.get(\"headline\"),\n            \"severity\": p.get(\"severity\"),\n            \"area\": p.get(\"areaDesc\"),\n        })\n\n    return {\"state\": state.upper(), \"count\": len(alerts), \"alerts\": alerts}\n\nprint(\"✅ Activity 'get_weather' defined\")"
  },
  {
   "cell_type": "code",
   "execution_count": null,
   "id": "39181faf",
   "metadata": {},
   "outputs": [],
   "source": "## Component 2: `workflow.py`\n\nDefine the workflow that orchestrates the agent execution.\n\n**Key points:**\n- Agent is created INSIDE the workflow (not globally)\n- Uses `activity_as_tool()` to convert Temporal activity into an Agent tool\n- Single parameter: `user_query` (no trace_id needed)\n- `Runner()` is instantiated (not just `Runner`)\n- Uses `getattr()` for safe access to `final_output`"
  },
  {
   "cell_type": "code",
   "id": "663a2ebc",
   "metadata": {},
   "source": "TASK_QUEUE = \"weather-agents\"\n\n@workflow.defn\nclass WeatherAgentWorkflow:\n    @workflow.run\n    async def run(self, user_query: str) -> str:\n        # Create the Agent inside the workflow\n        agent = Agent(\n            name=\"Weather Assistant\",\n            instructions=(\n                \"You are a helpful assistant that explains current weather alerts for U.S. states. \"\n                \"When the user asks about alerts, call the get_weather tool, then summarize results.\"\n            ),\n            tools=[\n                # Convert Temporal activity to Agent tool\n                openai_agents.workflow.activity_as_tool(\n                    get_weather,\n                    start_to_close_timeout=timedelta(seconds=10),\n                )\n            ],\n        )\n        \n        # Run the agent - tool calls execute as Temporal activities\n        result = await Runner().run(agent, user_query)\n        \n        # Safely extract final output\n        return getattr(result, \"final_output\", str(result))\n\nprint(f\"✅ Workflow 'WeatherAgentWorkflow' defined (task queue: {TASK_QUEUE})\")"
  },
  {
   "cell_type": "markdown",
   "id": "oztm3n9fo6l",
   "source": "## Component 3: `worker.py`\n\nRun the worker that polls for and executes workflow/activity tasks.\n\n**Key points:**\n- Connects to Temporal with `OpenAIAgentsPlugin` (required)\n- Configures `ModelActivityParameters` for AI model timeout settings\n- Uses `SandboxedWorkflowRunner` with passthrough for `httpx`\n- Runs in background as an async task in Jupyter",
   "metadata": {}
  },
  {
   "cell_type": "code",
   "id": "3e2q9zrqb2t",
   "source": "async def run_worker():\n    \"\"\"Start a Temporal worker that listens for workflow and activity tasks.\"\"\"\n    # Connect to Temporal server with OpenAI Agents SDK plugin\n    client = await Client.connect(\n        \"localhost:7233\",\n        plugins=[\n            OpenAIAgentsPlugin(\n                # Configure timeout for AI model inference activities\n                model_params=ModelActivityParameters(\n                    start_to_close_timeout=timedelta(seconds=30)\n                )\n            )\n        ],\n    )\n\n    # Create worker that polls the task queue\n    worker = Worker(\n        client,\n        task_queue=TASK_QUEUE,\n        workflows=[WeatherAgentWorkflow],\n        activities=[get_weather],\n        # Configure sandbox to allow httpx module (needed for NWS API calls)\n        workflow_runner=SandboxedWorkflowRunner(\n            restrictions=SandboxRestrictions.default.with_passthrough_modules(\n                \"httpx\",  # Allow httpx to bypass sandbox restrictions\n            )\n        )\n    )\n    \n    print(f\"✅ Worker started on task queue: {TASK_QUEUE}\")\n    print(\"   Listening for workflow and activity tasks...\")\n    await worker.run()\n\n# Start worker in background (Jupyter-specific pattern)\nimport nest_asyncio\nnest_asyncio.apply()\nworker_task = asyncio.create_task(run_worker())\nprint(\"🔄 Worker running in background\")",
   "metadata": {},
   "execution_count": null,
   "outputs": []
  },
  {
   "cell_type": "markdown",
   "id": "fz684wsi9uq",
   "source": "## Component 4: `starter.py`\n\nExecute the workflow and display results.\n\n**Key points:**\n- Uses `start_workflow` (not `execute_workflow`) for better control\n- Workflow ID uses EST timestamp pattern\n- Single query parameter (no trace_id)\n- Waits for result with `handle.result()`\n\n### 🎯 Demonstrating Durability (Optional)\n\nTo see Temporal's automatic retry in action:\n\n1. **Run the cell below** to start the workflow\n2. **While it's executing, disconnect your network** (WiFi off or disable network adapter)\n3. **Watch the logs** - You'll see the activity fail and Temporal retry\n4. **Reconnect your network**\n5. **Observe** Temporal automatically complete the workflow on the next retry!",
   "metadata": {}
  },
  {
   "cell_type": "code",
   "id": "jtkol3em4df",
   "source": "async def run_solution():\n    \"\"\"Execute the weather agent workflow.\"\"\"\n    query = \"What weather alerts are active in CA?\"\n    \n    # Generate workflow ID with EST timestamp\n    est = pytz.timezone('US/Eastern')\n    now = datetime.now(est)\n    workflow_id = f\"weather-{now.strftime('%a-%b-%d-%I%M%S').lower()}est\"\n    \n    # Connect to Temporal with OpenAI Agents SDK plugin\n    client = await Client.connect(\n        \"localhost:7233\",\n        plugins=[OpenAIAgentsPlugin()]\n    )\n    \n    print(f\"🚀 Starting workflow: {workflow_id}\")\n    print(f\"📝 Query: {query}\\n\")\n    \n    # Start the workflow (non-blocking)\n    handle = await client.start_workflow(\n        WeatherAgentWorkflow.run,\n        query,\n        id=workflow_id,\n        task_queue=TASK_QUEUE\n    )\n    \n    print(f\"✅ Workflow started: {handle.id}\")\n    print(f\"🔗 View in Temporal UI: http://localhost:8233/namespaces/default/workflows/{workflow_id}\\n\")\n    print(\"⏳ Waiting for agent response...\\n\")\n    \n    # Wait for workflow to complete and get result\n    result = await handle.result()\n    \n    print(\"=\" * 60)\n    print(\"🤖 Agent Response:\")\n    print(\"=\" * 60)\n    print(result)\n    print(\"=\" * 60)\n\n# Run the solution (Jupyter-specific async handling)\ntry:\n    loop = asyncio.get_running_loop()\n    await run_solution()\nexcept RuntimeError:\n    asyncio.run(run_solution())",
   "metadata": {},
   "execution_count": null,
   "outputs": []
  }
 ],
 "metadata": {
  "kernelspec": {
   "display_name": "base",
   "language": "python",
   "name": "python3"
  },
  "language_info": {
   "codemirror_mode": {
    "name": "ipython",
    "version": 3
   },
   "file_extension": ".py",
   "mimetype": "text/x-python",
   "name": "python",
   "nbconvert_exporter": "python",
   "pygments_lexer": "ipython3",
   "version": "3.11.4"
  }
 },
 "nbformat": 4,
 "nbformat_minor": 5
}