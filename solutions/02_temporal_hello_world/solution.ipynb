{
  "cells": [
    {
      "cell_type": "markdown",
      "id": "b8b92d1a",
      "metadata": {},
      "source": [
        "# Exercise 2: Temporal Hello World — Solution\n",
        "\n",
        "Complete implementation of the Temporal Hello World workflow with an activity."
      ]
    },
    {
      "cell_type": "markdown",
      "id": "5bcf66b0",
      "metadata": {},
      "source": [
        "## Prerequisites\n",
        "\n",
        "Make sure the Temporal dev server is running before executing the solution."
      ]
    },
    {
      "cell_type": "code",
      "execution_count": 5,
      "id": "ce7e15cf",
      "metadata": {},
      "outputs": [
        {
          "name": "stdout",
          "output_type": "stream",
          "text": [
            "\n",
            "\u001b[1m[\u001b[0m\u001b[34;49mnotice\u001b[0m\u001b[1;39;49m]\u001b[0m\u001b[39;49m A new release of pip is available: \u001b[0m\u001b[31;49m24.0\u001b[0m\u001b[39;49m -> \u001b[0m\u001b[32;49m25.2\u001b[0m\n",
            "\u001b[1m[\u001b[0m\u001b[34;49mnotice\u001b[0m\u001b[1;39;49m]\u001b[0m\u001b[39;49m To update, run: \u001b[0m\u001b[32;49mpip install --upgrade pip\u001b[0m\n",
            "Note: you may need to restart the kernel to use updated packages.\n",
            "Note: you may need to restart the kernel to use updated packages.\n"
          ]
        }
      ],
      "source": [
        "%pip install --quiet temporalio rich nest_asyncio\n",
        "\n",
        "import asyncio\n",
        "import uuid\n",
        "from datetime import timedelta\n",
        "from rich.console import Console\n",
        "from temporalio import activity, workflow\n",
        "from temporalio.client import Client\n",
        "from temporalio.worker import Worker, UnsandboxedWorkflowRunner\n",
        "\n",
        "console = Console()\n",
        "\n",
        "@activity.defn\n",
        "async def process_data(data: str) -> str:\n",
        "    \"\"\"Activity that simulates work by upper-casing the payload.\"\"\"\n",
        "    activity.logger.info(\"🔧 Activity started\")\n",
        "    await asyncio.sleep(1)\n",
        "    result = f\"Processed: {data.upper()}\"\n",
        "    activity.logger.info(\"✅ Activity completed\")\n",
        "    return result\n",
        "\n",
        "@workflow.defn\n",
        "class HelloWorkflow:\n",
        "    \"\"\"Workflow that orchestrates the activity call.\"\"\"\n",
        "\n",
        "    @workflow.run\n",
        "    async def run(self, name: str) -> str:\n",
        "        workflow.logger.info(\"🚀 Workflow started\")\n",
        "        result = await workflow.execute_activity(\n",
        "            process_data,\n",
        "            args=[f\"Hello {name}\"],\n",
        "            start_to_close_timeout=timedelta(seconds=10),\n",
        "        )\n",
        "        workflow.logger.info(\"✅ Workflow finished\")\n",
        "        return f\"Workflow result: {result}\""
      ]
    },
    {
      "cell_type": "markdown",
      "id": "eaffd306",
      "metadata": {},
      "source": [
        "## Run the Solution\n",
        "\n",
        "Use the cell below to run the fully implemented solution script."
      ]
    },
    {
      "cell_type": "code",
      "execution_count": 6,
      "id": "df62d782",
      "metadata": {},
      "outputs": [
        {
          "data": {
            "text/html": [
              "<pre style=\"white-space:pre;overflow-x:auto;line-height:normal;font-family:Menlo,'DejaVu Sans Mono',consolas,'Courier New',monospace\">\n",
              "<span style=\"color: #008080; text-decoration-color: #008080; font-weight: bold\">🚀 Exercise </span><span style=\"color: #008080; text-decoration-color: #008080; font-weight: bold\">2</span><span style=\"color: #008080; text-decoration-color: #008080; font-weight: bold\">: Temporal Hello World — Solution</span>\n",
              "\n",
              "</pre>\n"
            ],
            "text/plain": [
              "\n",
              "\u001b[1;36m🚀 Exercise \u001b[0m\u001b[1;36m2\u001b[0m\u001b[1;36m: Temporal Hello World — Solution\u001b[0m\n",
              "\n"
            ]
          },
          "metadata": {},
          "output_type": "display_data"
        },
        {
          "data": {
            "text/html": [
              "<pre style=\"white-space:pre;overflow-x:auto;line-height:normal;font-family:Menlo,'DejaVu Sans Mono',consolas,'Courier New',monospace\">\n",
              "<span style=\"color: #008000; text-decoration-color: #008000; font-weight: bold\">✅ Workflow Result:</span> Workflow result: Processed: HELLO TEMPORAL\n",
              "\n",
              "</pre>\n"
            ],
            "text/plain": [
              "\n",
              "\u001b[1;32m✅ Workflow Result:\u001b[0m Workflow result: Processed: HELLO TEMPORAL\n",
              "\n"
            ]
          },
          "metadata": {},
          "output_type": "display_data"
        },
        {
          "data": {
            "text/html": [
              "<pre style=\"white-space:pre;overflow-x:auto;line-height:normal;font-family:Menlo,'DejaVu Sans Mono',consolas,'Courier New',monospace\"><span style=\"color: #808000; text-decoration-color: #808000\">View execution history:</span> \n",
              "<span style=\"color: #0000ff; text-decoration-color: #0000ff; text-decoration: underline\">http://localhost:8233/namespaces/default/workflows/hello-workflow-8583308a-8d0c-431e-8363-7aded2718cec</span>\n",
              "\n",
              "</pre>\n"
            ],
            "text/plain": [
              "\u001b[33mView execution history:\u001b[0m \n",
              "\u001b[4;94mhttp://localhost:8233/namespaces/default/workflows/hello-workflow-8583308a-8d0c-431e-8363-7aded2718cec\u001b[0m\n",
              "\n"
            ]
          },
          "metadata": {},
          "output_type": "display_data"
        }
      ],
      "source": [
        "# Execute the solution workflow\n",
        "async def run_solution() -> None:\n",
        "    console.print(\"\\n[bold cyan]🚀 Exercise 2: Temporal Hello World — Solution[/bold cyan]\\n\")\n",
        "    client = await Client.connect(\"localhost:7233\")\n",
        "    task_queue = \"hello-world-queue\"\n",
        "    workflow_id = f\"hello-workflow-{uuid.uuid4()}\"\n",
        "\n",
        "    async with Worker(\n",
        "        client,\n",
        "        task_queue=task_queue,\n",
        "        workflows=[HelloWorkflow],\n",
        "        activities=[process_data],\n",
        "        workflow_runner=UnsandboxedWorkflowRunner(),\n",
        "    ):\n",
        "        result = await client.execute_workflow(\n",
        "            HelloWorkflow.run,\n",
        "            \"Temporal\",\n",
        "            id=workflow_id,\n",
        "            task_queue=task_queue,\n",
        "        )\n",
        "\n",
        "    console.print(f\"\\n[bold green]✅ Workflow Result:[/bold green] {result}\\n\")\n",
        "    console.print(\n",
        "        \"[yellow]View execution history:[/yellow] \"\n",
        "        f\"http://localhost:8233/namespaces/default/workflows/{workflow_id}\\n\"\n",
        "    )\n",
        "\n",
        "# Run the workflow in a notebook-friendly way\n",
        "try:\n",
        "    asyncio.get_running_loop()\n",
        "except RuntimeError:\n",
        "    asyncio.run(run_solution())\n",
        "else:\n",
        "    import nest_asyncio\n",
        "    nest_asyncio.apply()\n",
        "    await run_solution()"
      ]
    },
    {
      "cell_type": "markdown",
      "id": "a0e52d21",
      "metadata": {},
      "source": [
        "## Source Code\n",
        "\n",
        "The workflow and activity implementations are defined above in the first code cell."
      ]
    }
  ],
  "metadata": {
    "kernelspec": {
      "display_name": "Python 3",
      "language": "python",
      "name": "python3"
    },
    "language_info": {
      "codemirror_mode": {
        "name": "ipython",
        "version": 3
      },
      "file_extension": ".py",
      "mimetype": "text/x-python",
      "name": "python",
      "nbconvert_exporter": "python",
      "pygments_lexer": "ipython3",
      "version": "3.11.13"
    }
  },
  "nbformat": 4,
  "nbformat_minor": 5
}
