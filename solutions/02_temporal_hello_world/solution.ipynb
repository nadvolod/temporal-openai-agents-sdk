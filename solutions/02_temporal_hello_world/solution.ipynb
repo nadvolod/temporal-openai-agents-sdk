{
 "cells": [
  {
   "cell_type": "markdown",
   "id": "b8b92d1a",
   "metadata": {},
   "source": [
    "# Exercise 2: Temporal Hello World — Solution\n",
    "\n",
    "Complete implementation of the Temporal Hello World workflow with an activity."
   ]
  },
  {
   "cell_type": "markdown",
   "id": "5bcf66b0",
   "metadata": {},
   "source": [
    "## Prerequisites\n",
    "\n",
    "Make sure the Temporal dev server is running before executing the solution."
   ]
  },
  {
   "cell_type": "code",
   "execution_count": 1,
   "id": "ce7e15cf",
   "metadata": {},
   "outputs": [
    {
     "name": "stdout",
     "output_type": "stream",
     "text": [
      "\n",
      "\u001b[1m[\u001b[0m\u001b[34;49mnotice\u001b[0m\u001b[1;39;49m]\u001b[0m\u001b[39;49m A new release of pip is available: \u001b[0m\u001b[31;49m24.0\u001b[0m\u001b[39;49m -> \u001b[0m\u001b[32;49m25.2\u001b[0m\n",
      "\u001b[1m[\u001b[0m\u001b[34;49mnotice\u001b[0m\u001b[1;39;49m]\u001b[0m\u001b[39;49m To update, run: \u001b[0m\u001b[32;49mpip install --upgrade pip\u001b[0m\n",
      "Note: you may need to restart the kernel to use updated packages.\n",
      "Note: you may need to restart the kernel to use updated packages.\n"
     ]
    }
   ],
   "source": [
    "%pip install --quiet temporalio rich\n",
    "\n",
    "import asyncio\n",
    "import uuid\n",
    "from datetime import timedelta\n",
    "from rich.console import Console\n",
    "from temporalio import activity, workflow\n",
    "from temporalio.client import Client\n",
    "from temporalio.worker import Worker\n",
    "\n",
    "console = Console()"
   ]
  },
  {
   "cell_type": "markdown",
   "id": "eaffd306",
   "metadata": {},
   "source": [
    "## Run the Solution\n",
    "\n",
    "Use the cell below to run the fully implemented solution script."
   ]
  },
  {
   "cell_type": "code",
   "execution_count": 2,
   "id": "df62d782",
   "metadata": {},
   "outputs": [
    {
     "data": {
      "text/html": [
       "<pre style=\"white-space:pre;overflow-x:auto;line-height:normal;font-family:Menlo,'DejaVu Sans Mono',consolas,'Courier New',monospace\">\n",
       "<span style=\"color: #008080; text-decoration-color: #008080; font-weight: bold\">🚀 Exercise </span><span style=\"color: #008080; text-decoration-color: #008080; font-weight: bold\">2</span><span style=\"color: #008080; text-decoration-color: #008080; font-weight: bold\">: Temporal Hello World — Solution</span>\n",
       "\n",
       "</pre>\n"
      ],
      "text/plain": [
       "\n",
       "\u001b[1;36m🚀 Exercise \u001b[0m\u001b[1;36m2\u001b[0m\u001b[1;36m: Temporal Hello World — Solution\u001b[0m\n",
       "\n"
      ]
     },
     "metadata": {},
     "output_type": "display_data"
    },
    {
     "ename": "RuntimeError",
     "evalue": "Failed client connect: Server connection error: tonic::transport::Error(Transport, ConnectError(ConnectError(\"tcp connect error\", 127.0.0.1:7233, Os { code: 111, kind: ConnectionRefused, message: \"Connection refused\" })))",
     "output_type": "error",
     "traceback": [
      "\u001b[31m---------------------------------------------------------------------------\u001b[39m",
      "\u001b[31mRuntimeError\u001b[39m                              Traceback (most recent call last)",
      "\u001b[36mCell\u001b[39m\u001b[36m \u001b[39m\u001b[32mIn[2]\u001b[39m\u001b[32m, line 35\u001b[39m\n\u001b[32m     33\u001b[39m \u001b[38;5;28;01mimport\u001b[39;00m\u001b[38;5;250m \u001b[39m\u001b[34;01mnest_asyncio\u001b[39;00m\n\u001b[32m     34\u001b[39m nest_asyncio.apply()\n\u001b[32m---> \u001b[39m\u001b[32m35\u001b[39m \u001b[38;5;28;01mawait\u001b[39;00m run_solution()\n",
      "\u001b[36mCell\u001b[39m\u001b[36m \u001b[39m\u001b[32mIn[2]\u001b[39m\u001b[32m, line 4\u001b[39m, in \u001b[36mrun_solution\u001b[39m\u001b[34m()\u001b[39m\n\u001b[32m      2\u001b[39m \u001b[38;5;28;01masync\u001b[39;00m \u001b[38;5;28;01mdef\u001b[39;00m\u001b[38;5;250m \u001b[39m\u001b[34mrun_solution\u001b[39m() -> \u001b[38;5;28;01mNone\u001b[39;00m:\n\u001b[32m      3\u001b[39m     console.print(\u001b[33m\"\u001b[39m\u001b[38;5;130;01m\\n\u001b[39;00m\u001b[33m[bold cyan]🚀 Exercise 2: Temporal Hello World — Solution[/bold cyan]\u001b[39m\u001b[38;5;130;01m\\n\u001b[39;00m\u001b[33m\"\u001b[39m)\n\u001b[32m----> \u001b[39m\u001b[32m4\u001b[39m     client = \u001b[38;5;28;01mawait\u001b[39;00m Client.connect(\u001b[33m\"\u001b[39m\u001b[33mlocalhost:7233\u001b[39m\u001b[33m\"\u001b[39m)\n\u001b[32m      5\u001b[39m     task_queue = \u001b[33m\"\u001b[39m\u001b[33mhello-world-queue\u001b[39m\u001b[33m\"\u001b[39m\n\u001b[32m      6\u001b[39m     workflow_id = \u001b[33mf\u001b[39m\u001b[33m\"\u001b[39m\u001b[33mhello-workflow-\u001b[39m\u001b[38;5;132;01m{\u001b[39;00muuid.uuid4()\u001b[38;5;132;01m}\u001b[39;00m\u001b[33m\"\u001b[39m\n",
      "\u001b[36mFile \u001b[39m\u001b[32m~/.local/lib/python3.11/site-packages/temporalio/client.py:199\u001b[39m, in \u001b[36mClient.connect\u001b[39m\u001b[34m(target_host, namespace, api_key, data_converter, plugins, interceptors, default_workflow_query_reject_condition, tls, retry_config, keep_alive_config, rpc_metadata, identity, lazy, runtime, http_connect_proxy_config, header_codec_behavior)\u001b[39m\n\u001b[32m    196\u001b[39m     plugin.init_client_plugin(root_plugin)\n\u001b[32m    197\u001b[39m     root_plugin = plugin\n\u001b[32m--> \u001b[39m\u001b[32m199\u001b[39m service_client = \u001b[38;5;28;01mawait\u001b[39;00m root_plugin.connect_service_client(connect_config)\n\u001b[32m    201\u001b[39m \u001b[38;5;28;01mreturn\u001b[39;00m Client(\n\u001b[32m    202\u001b[39m     service_client,\n\u001b[32m    203\u001b[39m     namespace=namespace,\n\u001b[32m   (...)\u001b[39m\u001b[32m    208\u001b[39m     plugins=plugins,\n\u001b[32m    209\u001b[39m )\n",
      "\u001b[36mFile \u001b[39m\u001b[32m~/.local/lib/python3.11/site-packages/temporalio/client.py:7470\u001b[39m, in \u001b[36m_RootPlugin.connect_service_client\u001b[39m\u001b[34m(self, config)\u001b[39m\n\u001b[32m   7467\u001b[39m \u001b[38;5;28;01masync\u001b[39;00m \u001b[38;5;28;01mdef\u001b[39;00m\u001b[38;5;250m \u001b[39m\u001b[34mconnect_service_client\u001b[39m(\n\u001b[32m   7468\u001b[39m     \u001b[38;5;28mself\u001b[39m, config: temporalio.service.ConnectConfig\n\u001b[32m   7469\u001b[39m ) -> temporalio.service.ServiceClient:\n\u001b[32m-> \u001b[39m\u001b[32m7470\u001b[39m     \u001b[38;5;28;01mreturn\u001b[39;00m \u001b[38;5;28;01mawait\u001b[39;00m temporalio.service.ServiceClient.connect(config)\n",
      "\u001b[36mFile \u001b[39m\u001b[32m~/.local/lib/python3.11/site-packages/temporalio/service.py:213\u001b[39m, in \u001b[36mServiceClient.connect\u001b[39m\u001b[34m(config)\u001b[39m\n\u001b[32m    210\u001b[39m \u001b[38;5;129m@staticmethod\u001b[39m\n\u001b[32m    211\u001b[39m \u001b[38;5;28;01masync\u001b[39;00m \u001b[38;5;28;01mdef\u001b[39;00m\u001b[38;5;250m \u001b[39m\u001b[34mconnect\u001b[39m(config: ConnectConfig) -> ServiceClient:\n\u001b[32m    212\u001b[39m \u001b[38;5;250m    \u001b[39m\u001b[33;03m\"\"\"Connect directly to Temporal services.\"\"\"\u001b[39;00m\n\u001b[32m--> \u001b[39m\u001b[32m213\u001b[39m     \u001b[38;5;28;01mreturn\u001b[39;00m \u001b[38;5;28;01mawait\u001b[39;00m _BridgeServiceClient.connect(config)\n",
      "\u001b[36mFile \u001b[39m\u001b[32m~/.local/lib/python3.11/site-packages/temporalio/service.py:1295\u001b[39m, in \u001b[36m_BridgeServiceClient.connect\u001b[39m\u001b[34m(config)\u001b[39m\n\u001b[32m   1293\u001b[39m \u001b[38;5;66;03m# If not lazy, try to connect\u001b[39;00m\n\u001b[32m   1294\u001b[39m \u001b[38;5;28;01mif\u001b[39;00m \u001b[38;5;129;01mnot\u001b[39;00m config.lazy:\n\u001b[32m-> \u001b[39m\u001b[32m1295\u001b[39m     \u001b[38;5;28;01mawait\u001b[39;00m client._connected_client()\n\u001b[32m   1296\u001b[39m \u001b[38;5;28;01mreturn\u001b[39;00m client\n",
      "\u001b[36mFile \u001b[39m\u001b[32m~/.local/lib/python3.11/site-packages/temporalio/service.py:1308\u001b[39m, in \u001b[36m_BridgeServiceClient._connected_client\u001b[39m\u001b[34m(self)\u001b[39m\n\u001b[32m   1306\u001b[39m \u001b[38;5;28;01mif\u001b[39;00m \u001b[38;5;129;01mnot\u001b[39;00m \u001b[38;5;28mself\u001b[39m._bridge_client:\n\u001b[32m   1307\u001b[39m     runtime = \u001b[38;5;28mself\u001b[39m.config.runtime \u001b[38;5;129;01mor\u001b[39;00m temporalio.runtime.Runtime.default()\n\u001b[32m-> \u001b[39m\u001b[32m1308\u001b[39m     \u001b[38;5;28mself\u001b[39m._bridge_client = \u001b[38;5;28;01mawait\u001b[39;00m temporalio.bridge.client.Client.connect(\n\u001b[32m   1309\u001b[39m         runtime._core_runtime,\n\u001b[32m   1310\u001b[39m         \u001b[38;5;28mself\u001b[39m._bridge_config,\n\u001b[32m   1311\u001b[39m     )\n\u001b[32m   1312\u001b[39m \u001b[38;5;28;01mreturn\u001b[39;00m \u001b[38;5;28mself\u001b[39m._bridge_client\n",
      "\u001b[36mFile \u001b[39m\u001b[32m~/.local/lib/python3.11/site-packages/temporalio/bridge/client.py:97\u001b[39m, in \u001b[36mClient.connect\u001b[39m\u001b[34m(runtime, config)\u001b[39m\n\u001b[32m     90\u001b[39m \u001b[38;5;129m@staticmethod\u001b[39m\n\u001b[32m     91\u001b[39m \u001b[38;5;28;01masync\u001b[39;00m \u001b[38;5;28;01mdef\u001b[39;00m\u001b[38;5;250m \u001b[39m\u001b[34mconnect\u001b[39m(\n\u001b[32m     92\u001b[39m     runtime: temporalio.bridge.runtime.Runtime, config: ClientConfig\n\u001b[32m     93\u001b[39m ) -> Client:\n\u001b[32m     94\u001b[39m \u001b[38;5;250m    \u001b[39m\u001b[33;03m\"\"\"Establish connection with server.\"\"\"\u001b[39;00m\n\u001b[32m     95\u001b[39m     \u001b[38;5;28;01mreturn\u001b[39;00m Client(\n\u001b[32m     96\u001b[39m         runtime,\n\u001b[32m---> \u001b[39m\u001b[32m97\u001b[39m         \u001b[38;5;28;01mawait\u001b[39;00m temporalio.bridge.temporal_sdk_bridge.connect_client(\n\u001b[32m     98\u001b[39m             runtime._ref, config\n\u001b[32m     99\u001b[39m         ),\n\u001b[32m    100\u001b[39m     )\n",
      "\u001b[36mFile \u001b[39m\u001b[32m/usr/local/lib/python3.11/asyncio/futures.py:287\u001b[39m, in \u001b[36mFuture.__await__\u001b[39m\u001b[34m(self)\u001b[39m\n\u001b[32m    285\u001b[39m \u001b[38;5;28;01mif\u001b[39;00m \u001b[38;5;129;01mnot\u001b[39;00m \u001b[38;5;28mself\u001b[39m.done():\n\u001b[32m    286\u001b[39m     \u001b[38;5;28mself\u001b[39m._asyncio_future_blocking = \u001b[38;5;28;01mTrue\u001b[39;00m\n\u001b[32m--> \u001b[39m\u001b[32m287\u001b[39m     \u001b[38;5;28;01myield\u001b[39;00m \u001b[38;5;28mself\u001b[39m  \u001b[38;5;66;03m# This tells Task to wait for completion.\u001b[39;00m\n\u001b[32m    288\u001b[39m \u001b[38;5;28;01mif\u001b[39;00m \u001b[38;5;129;01mnot\u001b[39;00m \u001b[38;5;28mself\u001b[39m.done():\n\u001b[32m    289\u001b[39m     \u001b[38;5;28;01mraise\u001b[39;00m \u001b[38;5;167;01mRuntimeError\u001b[39;00m(\u001b[33m\"\u001b[39m\u001b[33mawait wasn\u001b[39m\u001b[33m'\u001b[39m\u001b[33mt used with future\u001b[39m\u001b[33m\"\u001b[39m)\n",
      "\u001b[36mFile \u001b[39m\u001b[32m/usr/local/lib/python3.11/asyncio/futures.py:203\u001b[39m, in \u001b[36mFuture.result\u001b[39m\u001b[34m(self)\u001b[39m\n\u001b[32m    201\u001b[39m \u001b[38;5;28mself\u001b[39m.__log_traceback = \u001b[38;5;28;01mFalse\u001b[39;00m\n\u001b[32m    202\u001b[39m \u001b[38;5;28;01mif\u001b[39;00m \u001b[38;5;28mself\u001b[39m._exception \u001b[38;5;129;01mis\u001b[39;00m \u001b[38;5;129;01mnot\u001b[39;00m \u001b[38;5;28;01mNone\u001b[39;00m:\n\u001b[32m--> \u001b[39m\u001b[32m203\u001b[39m     \u001b[38;5;28;01mraise\u001b[39;00m \u001b[38;5;28mself\u001b[39m._exception.with_traceback(\u001b[38;5;28mself\u001b[39m._exception_tb)\n\u001b[32m    204\u001b[39m \u001b[38;5;28;01mreturn\u001b[39;00m \u001b[38;5;28mself\u001b[39m._result\n",
      "\u001b[31mRuntimeError\u001b[39m: Failed client connect: Server connection error: tonic::transport::Error(Transport, ConnectError(ConnectError(\"tcp connect error\", 127.0.0.1:7233, Os { code: 111, kind: ConnectionRefused, message: \"Connection refused\" })))"
     ]
    }
   ],
   "source": [
    "# Execute the solution workflow\n",
    "async def run_solution() -> None:\n",
    "    console.print(\"\\n[bold cyan]🚀 Exercise 2: Temporal Hello World — Solution[/bold cyan]\\n\")\n",
    "    client = await Client.connect(\"localhost:7233\")\n",
    "    task_queue = \"hello-world-queue\"\n",
    "    workflow_id = f\"hello-workflow-{uuid.uuid4()}\"\n",
    "\n",
    "    async with Worker(\n",
    "        client,\n",
    "        task_queue=task_queue,\n",
    "        workflows=[HelloWorkflow],\n",
    "        activities=[process_data],\n",
    "    ):\n",
    "        result = await client.execute_workflow(\n",
    "            HelloWorkflow.run,\n",
    "            \"Temporal\",\n",
    "            id=workflow_id,\n",
    "            task_queue=task_queue,\n",
    "        )\n",
    "\n",
    "    console.print(f\"\\n[bold green]✅ Workflow Result:[/bold green] {result}\\n\")\n",
    "    console.print(\n",
    "        \"[yellow]View execution history:[/yellow] \"\n",
    "        f\"http://localhost:8233/namespaces/default/workflows/{workflow_id}\\n\"\n",
    "    )\n",
    "\n",
    "# Run the workflow in a notebook-friendly way\n",
    "try:\n",
    "    asyncio.get_running_loop()\n",
    "except RuntimeError:\n",
    "    asyncio.run(run_solution())\n",
    "else:\n",
    "    import nest_asyncio\n",
    "    nest_asyncio.apply()\n",
    "    await run_solution()"
   ]
  },
  {
   "cell_type": "markdown",
   "id": "a0e52d21",
   "metadata": {},
   "source": [
    "## Source Code\n",
    "\n",
    "Review the solution implementation across the key modules."
   ]
  },
  {
   "cell_type": "code",
   "execution_count": 8,
   "id": "8cf69d04",
   "metadata": {},
   "outputs": [],
   "source": [
    "@activity.defn\n",
    "async def process_data(data: str) -> str:\n",
    "    \"\"\"Activity that simulates work by upper-casing the payload.\"\"\"\n",
    "    activity.logger.info(\"🔧 Activity started\")\n",
    "    await asyncio.sleep(1)\n",
    "    result = f\"Processed: {data.upper()}\"\n",
    "    activity.logger.info(\"✅ Activity completed\")\n",
    "    return result\n",
    "\n",
    "@workflow.defn\n",
    "class HelloWorkflow:\n",
    "    \"\"\"Workflow that orchestrates the activity call.\"\"\"\n",
    "\n",
    "    @workflow.run\n",
    "    async def run(self, name: str) -> str:\n",
    "        workflow.logger.info(\"🚀 Workflow started\")\n",
    "        result = await workflow.execute_activity(\n",
    "            process_data,\n",
    "            args=[f\"Hello {name}\"],\n",
    "            start_to_close_timeout=timedelta(seconds=10),\n",
    "        )\n",
    "        workflow.logger.info(\"✅ Workflow finished\")\n",
    "        return f\"Workflow result: {result}\"\n"
   ]
  }
 ],
 "metadata": {
  "kernelspec": {
   "display_name": "Python 3",
   "language": "python",
   "name": "python3"
  },
  "language_info": {
   "codemirror_mode": {
    "name": "ipython",
    "version": 3
   },
   "file_extension": ".py",
   "mimetype": "text/x-python",
   "name": "python",
   "nbconvert_exporter": "python",
   "pygments_lexer": "ipython3",
   "version": "3.11.13"
  }
 },
 "nbformat": 4,
 "nbformat_minor": 5
}
