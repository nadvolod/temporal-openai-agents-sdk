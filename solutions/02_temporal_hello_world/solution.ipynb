{
 "cells": [
  {
   "cell_type": "markdown",
   "id": "b8b92d1a",
   "metadata": {},
   "source": [
    "# Exercise 2: Temporal Hello World — Solution\n",
    "\n",
    "Complete implementation of the Temporal Hello World workflow with an activity."
   ]
  },
  {
   "cell_type": "markdown",
   "id": "5bcf66b0",
   "metadata": {},
   "source": [
    "## Prerequisites\n",
    "\n",
    "Make sure the Temporal dev server is running before executing the solution."
   ]
  },
  {
   "cell_type": "code",
   "execution_count": null,
   "id": "ce7e15cf",
   "metadata": {},
   "outputs": [],
   "source": [
    "%pip install --quiet temporalio rich nest_asyncio pytz\n",
    "\n",
    "import asyncio\n",
    "from datetime import timedelta, datetime\n",
    "import pytz\n",
    "from rich.console import Console\n",
    "from temporalio import activity, workflow\n",
    "from temporalio.client import Client\n",
    "from temporalio.worker import Worker, UnsandboxedWorkflowRunner\n",
    "\n",
    "console = Console()\n",
    "\n",
    "@activity.defn\n",
    "async def process_data(data: str) -> str:\n",
    "    \"\"\"Activity that simulates work by upper-casing the payload.\"\"\"\n",
    "    activity.logger.info(\"🔧 Activity started\")\n",
    "    await asyncio.sleep(1)\n",
    "    result = f\"Processed: {data.upper()}\"\n",
    "    activity.logger.info(\"✅ Activity completed\")\n",
    "    return result\n",
    "\n",
    "@workflow.defn\n",
    "class HelloWorkflowTemporal:\n",
    "    \"\"\"Workflow that orchestrates the activity call.\"\"\"\n",
    "\n",
    "    @workflow.run\n",
    "    async def run(self, name: str) -> str:\n",
    "        workflow.logger.info(\"🚀 Workflow started\")\n",
    "        result = await workflow.execute_activity(\n",
    "            process_data,\n",
    "            args=[f\"Hello {name}\"],\n",
    "            start_to_close_timeout=timedelta(seconds=10),\n",
    "        )\n",
    "        workflow.logger.info(\"✅ Workflow finished\")\n",
    "        return f\"Workflow result: {result}\""
   ]
  },
  {
   "cell_type": "markdown",
   "id": "eaffd306",
   "metadata": {},
   "source": [
    "## Run the Solution\n",
    "\n",
    "Use the cell below to run the fully implemented solution script."
   ]
  },
  {
   "cell_type": "markdown",
   "id": "7f158c4b",
   "metadata": {},
   "source": []
  },
  {
   "cell_type": "code",
   "execution_count": null,
   "id": "df62d782",
   "metadata": {},
   "outputs": [],
   "source": [
    "# Execute the solution workflow\n",
    "async def run_solution() -> None:\n",
    "    console.print(\"\\n[bold cyan]🚀 Exercise 2: Temporal Hello World — Solution[/bold cyan]\\n\")\n",
    "    client = await Client.connect(\"localhost:7233\")\n",
    "    task_queue = \"hello-world-queue\"\n",
    "    \n",
    "    # Get current time in EST and format workflow ID\n",
    "    est = pytz.timezone('US/Eastern')\n",
    "    now = datetime.now(est)\n",
    "    workflow_id = f\"02-workflow-{now.strftime('%a-%b-%d-%I%M%S').lower()}est\"\n",
    "    \n",
    "    console.print(f\"[yellow]Workflow ID:[/yellow] {workflow_id}\\n\")\n",
    "\n",
    "    async with Worker(\n",
    "        client,\n",
    "        task_queue=task_queue,\n",
    "        workflows=[HelloWorkflowTemporal],  #sets the workflow type name in UI\n",
    "        activities=[process_data],\n",
    "        workflow_runner=UnsandboxedWorkflowRunner(),\n",
    "    ):\n",
    "        result = await client.execute_workflow(\n",
    "            HelloWorkflowTemporal.run,\n",
    "            \"Temporal\",\n",
    "            id=workflow_id,\n",
    "            task_queue=task_queue,\n",
    "        )\n",
    "\n",
    "    console.print(f\"\\n[bold green]✅ Workflow Result:[/bold green] {result}\\n\")\n",
    "    console.print(\n",
    "        \"[yellow]View execution history:[/yellow] \"\n",
    "        f\"http://localhost:8233/namespaces/default/workflows/{workflow_id}\\n\"\n",
    "    )\n",
    "\n",
    "# Run the workflow in a notebook-friendly way\n",
    "try:\n",
    "    asyncio.get_running_loop()\n",
    "except RuntimeError:\n",
    "    asyncio.run(run_solution())\n",
    "else:\n",
    "    import nest_asyncio\n",
    "    nest_asyncio.apply()\n",
    "    await run_solution()"
   ]
  },
  {
   "cell_type": "markdown",
   "id": "a0e52d21",
   "metadata": {},
   "source": [
    "## Source Code\n",
    "\n",
    "The workflow and activity implementations are defined above in the first code cell."
   ]
  }
 ],
 "metadata": {
  "kernelspec": {
   "display_name": "Python 3",
   "language": "python",
   "name": "python3"
  },
  "language_info": {
   "codemirror_mode": {
    "name": "ipython",
    "version": 3
   },
   "file_extension": ".py",
   "mimetype": "text/x-python",
   "name": "python",
   "nbconvert_exporter": "python",
   "pygments_lexer": "ipython3",
   "version": "3.11.13"
  }
 },
 "nbformat": 4,
 "nbformat_minor": 5
}
