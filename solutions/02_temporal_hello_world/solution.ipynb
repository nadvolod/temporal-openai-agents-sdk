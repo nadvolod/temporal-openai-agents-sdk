{
 "cells": [
  {
   "cell_type": "markdown",
   "id": "b8b92d1a",
   "metadata": {},
   "source": [
    "# Exercise 2: Temporal Hello World — Solution\n",
    "\n",
    "Complete implementation of the Temporal Hello World workflow with an activity."
   ]
  },
  {
   "cell_type": "markdown",
   "id": "5bcf66b0",
   "metadata": {},
   "source": [
    "## Prerequisites\n",
    "\n",
    "Make sure the Temporal dev server is running before executing the solution."
   ]
  },
  {
   "cell_type": "code",
   "execution_count": 10,
   "id": "ce7e15cf",
   "metadata": {},
   "outputs": [
    {
     "name": "stdout",
     "output_type": "stream",
     "text": [
      "\n",
      "\u001b[1m[\u001b[0m\u001b[34;49mnotice\u001b[0m\u001b[1;39;49m]\u001b[0m\u001b[39;49m A new release of pip is available: \u001b[0m\u001b[31;49m24.0\u001b[0m\u001b[39;49m -> \u001b[0m\u001b[32;49m25.2\u001b[0m\n",
      "\u001b[1m[\u001b[0m\u001b[34;49mnotice\u001b[0m\u001b[1;39;49m]\u001b[0m\u001b[39;49m To update, run: \u001b[0m\u001b[32;49mpip install --upgrade pip\u001b[0m\n",
      "Note: you may need to restart the kernel to use updated packages.\n"
     ]
    }
   ],
   "source": [
    "%pip install --quiet temporalio rich\n",
    "\n",
    "import asyncio\n",
    "from datetime import timedelta\n",
    "from rich.console import Console\n",
    "from temporalio import activity, workflow\n",
    "from temporalio.client import Client\n",
    "from temporalio.worker import Worker\n",
    "\n",
    "console = Console()\n"
   ]
  },
  {
   "cell_type": "markdown",
   "id": "eaffd306",
   "metadata": {},
   "source": [
    "## Run the Solution\n",
    "\n",
    "Use the cell below to run the fully implemented solution script."
   ]
  },
  {
   "cell_type": "code",
   "execution_count": 11,
   "id": "df62d782",
   "metadata": {},
   "outputs": [
    {
     "ename": "RuntimeError",
     "evalue": "asyncio.run() cannot be called from a running event loop",
     "output_type": "error",
     "traceback": [
      "\u001b[31m---------------------------------------------------------------------------\u001b[39m",
      "\u001b[31mRuntimeError\u001b[39m                              Traceback (most recent call last)",
      "\u001b[36mCell\u001b[39m\u001b[36m \u001b[39m\u001b[32mIn[11]\u001b[39m\u001b[32m, line 27\u001b[39m\n\u001b[32m     21\u001b[39m     console.print(\u001b[33mf\u001b[39m\u001b[33m\"\u001b[39m\u001b[38;5;130;01m\\n\u001b[39;00m\u001b[33m[bold green]✅ Workflow Result:[/bold green] \u001b[39m\u001b[38;5;132;01m{\u001b[39;00mresult\u001b[38;5;132;01m}\u001b[39;00m\u001b[38;5;130;01m\\n\u001b[39;00m\u001b[33m\"\u001b[39m)\n\u001b[32m     22\u001b[39m     console.print(\n\u001b[32m     23\u001b[39m         \u001b[33m\"\u001b[39m\u001b[33m[yellow]View execution history:[/yellow] \u001b[39m\u001b[33m\"\u001b[39m\n\u001b[32m     24\u001b[39m         \u001b[33mf\u001b[39m\u001b[33m\"\u001b[39m\u001b[33mhttp://localhost:8233/namespaces/default/workflows/\u001b[39m\u001b[38;5;132;01m{\u001b[39;00mworkflow_id\u001b[38;5;132;01m}\u001b[39;00m\u001b[38;5;130;01m\\n\u001b[39;00m\u001b[33m\"\u001b[39m\n\u001b[32m     25\u001b[39m     )\n\u001b[32m---> \u001b[39m\u001b[32m27\u001b[39m \u001b[43masyncio\u001b[49m\u001b[43m.\u001b[49m\u001b[43mrun\u001b[49m\u001b[43m(\u001b[49m\u001b[43mrun_solution\u001b[49m\u001b[43m(\u001b[49m\u001b[43m)\u001b[49m\u001b[43m)\u001b[49m\n",
      "\u001b[36mFile \u001b[39m\u001b[32m/usr/local/lib/python3.11/asyncio/runners.py:186\u001b[39m, in \u001b[36mrun\u001b[39m\u001b[34m(main, debug)\u001b[39m\n\u001b[32m    161\u001b[39m \u001b[38;5;250m\u001b[39m\u001b[33;03m\"\"\"Execute the coroutine and return the result.\u001b[39;00m\n\u001b[32m    162\u001b[39m \n\u001b[32m    163\u001b[39m \u001b[33;03mThis function runs the passed coroutine, taking care of\u001b[39;00m\n\u001b[32m   (...)\u001b[39m\u001b[32m    182\u001b[39m \u001b[33;03m    asyncio.run(main())\u001b[39;00m\n\u001b[32m    183\u001b[39m \u001b[33;03m\"\"\"\u001b[39;00m\n\u001b[32m    184\u001b[39m \u001b[38;5;28;01mif\u001b[39;00m events._get_running_loop() \u001b[38;5;129;01mis\u001b[39;00m \u001b[38;5;129;01mnot\u001b[39;00m \u001b[38;5;28;01mNone\u001b[39;00m:\n\u001b[32m    185\u001b[39m     \u001b[38;5;66;03m# fail fast with short traceback\u001b[39;00m\n\u001b[32m--> \u001b[39m\u001b[32m186\u001b[39m     \u001b[38;5;28;01mraise\u001b[39;00m \u001b[38;5;167;01mRuntimeError\u001b[39;00m(\n\u001b[32m    187\u001b[39m         \u001b[33m\"\u001b[39m\u001b[33masyncio.run() cannot be called from a running event loop\u001b[39m\u001b[33m\"\u001b[39m)\n\u001b[32m    189\u001b[39m \u001b[38;5;28;01mwith\u001b[39;00m Runner(debug=debug) \u001b[38;5;28;01mas\u001b[39;00m runner:\n\u001b[32m    190\u001b[39m     \u001b[38;5;28;01mreturn\u001b[39;00m runner.run(main)\n",
      "\u001b[31mRuntimeError\u001b[39m: asyncio.run() cannot be called from a running event loop"
     ]
    },
    {
     "name": "stderr",
     "output_type": "stream",
     "text": [
      "/home/vscode/.local/lib/python3.11/site-packages/pygments/regexopt.py:39: RuntimeWarning: coroutine 'run_solution' was never awaited\n",
      "  return open_paren + regex_opt_inner(strings[1:], '(?:') \\\n",
      "RuntimeWarning: Enable tracemalloc to get the object allocation traceback\n"
     ]
    }
   ],
   "source": [
    "# Execute the solution workflow\n",
    "async def run_solution() -> None:\n",
    "    console.print(\"\\n[bold cyan]🚀 Exercise 2: Temporal Hello World — Solution[/bold cyan]\\n\")\n",
    "    client = await Client.connect(\"localhost:7233\")\n",
    "    task_queue = \"hello-world-queue\"\n",
    "\n",
    "    async with Worker(\n",
    "        client,\n",
    "        task_queue=task_queue,\n",
    "        workflows=[HelloWorkflow],\n",
    "        activities=[process_data],\n",
    "    ):\n",
    "        workflow_id = \"hello-workflow-1\"\n",
    "        result = await client.execute_workflow(\n",
    "            HelloWorkflow.run,\n",
    "            \"Temporal\",\n",
    "            id=workflow_id,\n",
    "            task_queue=task_queue,\n",
    "        )\n",
    "\n",
    "    console.print(f\"\\n[bold green]✅ Workflow Result:[/bold green] {result}\\n\")\n",
    "    console.print(\n",
    "        \"[yellow]View execution history:[/yellow] \"\n",
    "        f\"http://localhost:8233/namespaces/default/workflows/{workflow_id}\\n\"\n",
    "    )\n",
    "\n",
    "asyncio.run(run_solution())\n"
   ]
  },
  {
   "cell_type": "markdown",
   "id": "a0e52d21",
   "metadata": {},
   "source": [
    "## Source Code\n",
    "\n",
    "Review the solution implementation across the key modules."
   ]
  },
  {
   "cell_type": "code",
   "execution_count": 8,
   "id": "8cf69d04",
   "metadata": {},
   "outputs": [],
   "source": [
    "@activity.defn\n",
    "async def process_data(data: str) -> str:\n",
    "    \"\"\"Activity that simulates work by upper-casing the payload.\"\"\"\n",
    "    activity.logger.info(\"🔧 Activity started\")\n",
    "    await asyncio.sleep(1)\n",
    "    result = f\"Processed: {data.upper()}\"\n",
    "    activity.logger.info(\"✅ Activity completed\")\n",
    "    return result\n",
    "\n",
    "@workflow.defn\n",
    "class HelloWorkflow:\n",
    "    \"\"\"Workflow that orchestrates the activity call.\"\"\"\n",
    "\n",
    "    @workflow.run\n",
    "    async def run(self, name: str) -> str:\n",
    "        workflow.logger.info(\"🚀 Workflow started\")\n",
    "        result = await workflow.execute_activity(\n",
    "            process_data,\n",
    "            args=[f\"Hello {name}\"],\n",
    "            start_to_close_timeout=timedelta(seconds=10),\n",
    "        )\n",
    "        workflow.logger.info(\"✅ Workflow finished\")\n",
    "        return f\"Workflow result: {result}\"\n"
   ]
  }
 ],
 "metadata": {
  "kernelspec": {
   "display_name": "Python 3",
   "language": "python",
   "name": "python3"
  },
  "language_info": {
   "codemirror_mode": {
    "name": "ipython",
    "version": 3
   },
   "file_extension": ".py",
   "mimetype": "text/x-python",
   "name": "python",
   "nbconvert_exporter": "python",
   "pygments_lexer": "ipython3",
   "version": "3.11.13"
  }
 },
 "nbformat": 4,
 "nbformat_minor": 5
}
