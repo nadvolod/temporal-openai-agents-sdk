{
 "cells": [
  {
   "cell_type": "markdown",
   "id": "4e781ab0",
   "metadata": {},
   "source": [
    "# Exercise 4: Multi-Agent Handoff\n",
    "\n",
    "**Goal:** Implement an agent handoff pattern where specialized agents handle different tasks, orchestrated by Temporal workflows.\n",
    "\n",
    "**Timebox:** 15 minutes\n",
    "\n",
    "## What You'll Learn\n",
    "\n",
    "- How to implement multi-agent architectures with Temporal\n",
    "- Agent handoff patterns for specialized tasks\n",
    "- Maintaining conversation context across agent transitions\n",
    "- Workflow-based orchestration of multiple agents"
   ]
  },
  {
   "cell_type": "markdown",
   "id": "dbd231da",
   "metadata": {},
   "source": [
    "## Prerequisites\n",
    "\n",
    "Ensure the Temporal dev server is running before you begin.\n",
    "\n",
    "```bash\n",
    "make temporal-up\n",
    "```\n",
    "\n",
    "Confirm the UI is reachable at http://localhost:8233."
   ]
  },
  {
   "cell_type": "markdown",
   "id": "99e87e0d",
   "metadata": {},
   "source": [
    "## Scenario\n",
    "\n",
    "Build a customer service system with two specialized agents:\n",
    "- **Triage Agent**: Routes queries to the appropriate specialist\n",
    "- **Weather Agent**: Handles weather-related questions\n",
    "- **Time Agent**: Handles time-related questions\n",
    "\n",
    "The workflow orchestrates handoffs between agents based on the triage decision."
   ]
  },
  {
   "cell_type": "markdown",
   "id": "314ceb1c",
   "metadata": {},
   "source": [
    "## Steps\n",
    "\n",
    "1. **Define specialist agents** – Update activities for weather and time specialists.\n",
    "2. **Implement triage logic** – Add routing logic that chooses the right specialist.\n",
    "3. **Build orchestration workflow** – Coordinate agent handoffs in `workflows.py`.\n",
    "4. **Maintain context** – Pass conversation context through each handoff.\n",
    "5. **Run and observe** – Execute the workflow and inspect the Temporal UI."
   ]
  },
  {
   "cell_type": "markdown",
   "id": "364fccc9",
   "metadata": {},
   "source": [
    "## Expected Output\n",
    "\n",
    "```\n",
    "🚀 Multi-Agent Handoff System\n",
    "\n",
    "Query: What's the weather in London and what time is it there?\n",
    "\n",
    "🔍 Triage Agent: Routing query...\n",
    "   → Routed to: weather_agent\n",
    "\n",
    "🌤️  Weather Agent: Handling weather query...\n",
    "   Result: The weather in London is rainy, 58°F\n",
    "\n",
    "🔍 Triage Agent: Additional routing needed...\n",
    "   → Routed to: time_agent\n",
    "\n",
    "🕐 Time Agent: Handling time query...\n",
    "   Result: The current time in London is 3:45 PM GMT\n",
    "\n",
    "✅ Final Response:\n",
    "The weather in London is rainy with 58°F. The current time there is 3:45 PM GMT.\n",
    "\n",
    "View in Temporal UI: http://localhost:8233/...\n",
    "```\n"
   ]
  },
  {
   "cell_type": "markdown",
   "id": "f5b8099a",
   "metadata": {},
   "source": [
    "## Practice\n",
    "\n",
    "Run the cell below after updating the Python modules with your implementation."
   ]
  },
  {
   "cell_type": "code",
   "execution_count": null,
   "id": "9cf5866c",
   "metadata": {
    "vscode": {
     "languageId": "bash"
    }
   },
   "outputs": [],
   "source": [
    "# Execute the multi-agent handoff workflow\n",
    "!cd ../.. && python -m exercises.04_multi_agent_handoff.main\n"
   ]
  },
  {
   "cell_type": "markdown",
   "id": "3897fadf",
   "metadata": {},
   "source": [
    "## Stretch Goal\n",
    "\n",
    "- Add an additional specialist (e.g., translation agent).\n",
    "- Maintain conversation history across multiple handoffs.\n",
    "- Introduce decision logic for when to involve multiple agents."
   ]
  }
 ],
 "metadata": {
  "language_info": {
   "name": "python"
  }
 },
 "nbformat": 4,
 "nbformat_minor": 5
}
