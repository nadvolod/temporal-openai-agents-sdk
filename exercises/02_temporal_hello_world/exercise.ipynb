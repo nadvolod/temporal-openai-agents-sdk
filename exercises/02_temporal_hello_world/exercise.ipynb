{
 "cells": [
  {
   "cell_type": "markdown",
   "id": "492be395",
   "metadata": {},
   "source": [
    "# Exercise 2: Temporal Hello World\n",
    "\n",
    "**Goal:** Create a basic Temporal workflow with activities to understand durability and retries.\n",
    "\n",
    "**Timebox:** 15 minutes\n",
    "\n",
    "## What You'll Learn\n",
    "\n",
    "- How to define Temporal workflows and activities\n",
    "- How to run a workflow and observe execution in the Temporal UI\n",
    "- How activities provide automatic retries and durability"
   ]
  },
  {
   "cell_type": "markdown",
   "id": "48b2add0",
   "metadata": {},
   "source": [
    "## Prerequisites\n",
    "\n",
    "Make sure the Temporal dev server is running before you start. You can launch it from another notebook or terminal with:\n",
    "\n",
    "```bash\n",
    "make temporal-up\n",
    "```\n",
    "\n",
    "Verify the Temporal UI at http://localhost:8233."
   ]
  },
  {
   "cell_type": "markdown",
   "id": "dd014695",
   "metadata": {},
   "source": [
    "## Steps\n",
    "\n",
    "1. **Define an activity** – Complete the TODO in the `process_data` function below.\n",
    "2. **Define a workflow** – Implement the `HelloWorkflow` class to call your activity.\n",
    "3. **Start a worker** – Register the activity and workflow with the embedded worker.\n",
    "4. **Execute the workflow** – Run the provided helper to trigger execution.\n",
    "5. **Check Temporal UI** – Inspect execution history at http://localhost:8233.\n"
   ]
  },
  {
   "cell_type": "markdown",
   "id": "b4b5383c",
   "metadata": {},
   "source": [
    "## Setup\n",
    "\n",
    "Install dependencies if needed and import Temporal SDK helpers used in this exercise.\n"
   ]
  },
  {
   "cell_type": "code",
   "execution_count": null,
   "id": "d39fffc4",
   "metadata": {},
   "outputs": [],
   "source": [
    "%pip install --quiet temporalio rich\n",
    "\n",
    "import asyncio\n",
    "from datetime import timedelta\n",
    "from rich.console import Console\n",
    "from temporalio import activity, workflow\n",
    "from temporalio.client import Client\n",
    "from temporalio.worker import Worker\n",
    "\n",
    "console = Console()\n"
   ]
  },
  {
   "cell_type": "markdown",
   "id": "db7f1276",
   "metadata": {},
   "source": [
    "## Implement the Activity\n",
    "\n",
    "Complete the TODO inside `process_data` to simulate a simple unit of work.\n"
   ]
  },
  {
   "cell_type": "code",
   "execution_count": null,
   "id": "831af31d",
   "metadata": {},
   "outputs": [],
   "source": [
    "@activity.defn\n",
    "async def process_data(data: str) -> str:\n",
    "    \"\"\"Simulate an external call or computation.\"\"\"\n",
    "    # TODO: add logging so you can trace when the activity starts\n",
    "    # TODO: pause briefly with asyncio.sleep to simulate work\n",
    "    # TODO: return a transformed version of the incoming data\n",
    "    raise NotImplementedError(\"Implement process_data\")\n"
   ]
  },
  {
   "cell_type": "markdown",
   "id": "83ca8ac8",
   "metadata": {},
   "source": [
    "## Implement the Workflow\n",
    "\n",
    "Wire up the workflow to call your activity and return the result with helpful logging.\n"
   ]
  },
  {
   "cell_type": "code",
   "execution_count": null,
   "id": "7fa9ee94",
   "metadata": {},
   "outputs": [],
   "source": [
    "@workflow.defn\n",
    "class HelloWorkflow:\n",
    "    \"\"\"Workflow orchestrating the activity.\"\"\"\n",
    "\n",
    "    @workflow.run\n",
    "    async def run(self, name: str) -> str:\n",
    "        # TODO: log that the workflow started\n",
    "        # TODO: execute the process_data activity with a start_to_close_timeout\n",
    "        # TODO: return a friendly message combining the activity result\n",
    "        raise NotImplementedError(\"Implement HelloWorkflow.run\")\n"
   ]
  },
  {
   "cell_type": "markdown",
   "id": "6351bca7",
   "metadata": {},
   "source": [
    "## Expected Output\n",
    "\n",
    "```\n",
    "🚀 Starting Temporal Hello World workflow...\n",
    "\n",
    "Activity: Processing data...\n",
    "Activity: Data processed successfully!\n",
    "\n",
    "✅ Workflow completed: Hello from Temporal!\n",
    "\n",
    "View in Temporal UI: http://localhost:8233\n",
    "```\n"
   ]
  },
  {
   "cell_type": "markdown",
   "id": "2c25705b",
   "metadata": {},
   "source": [
    "## Practice\n",
    "\n",
    "Use the cell below to execute the exercise script after filling in the TODOs. Running the cell lets you stay inside the notebook experience—no need to switch to a terminal."
   ]
  },
  {
   "cell_type": "code",
   "execution_count": null,
   "id": "687e4b31",
   "metadata": {
    "vscode": {
     "languageId": "bash"
    }
   },
   "outputs": [],
   "source": [
    "# Run the exercise once your TODOs are complete\n",
    "async def run_exercise() -> None:\n",
    "    console.print(\"\\n[bold cyan]🚀 Temporal Hello World[/bold cyan]\\n\")\n",
    "    client = await Client.connect(\"localhost:7233\")\n",
    "    task_queue = \"hello-world-queue\"\n",
    "\n",
    "    async with Worker(\n",
    "        client,\n",
    "        task_queue=task_queue,\n",
    "        workflows=[HelloWorkflow],\n",
    "        activities=[process_data],\n",
    "    ):\n",
    "        result = await client.execute_workflow(\n",
    "            HelloWorkflow.run,\n",
    "            \"Temporal\",\n",
    "            id=\"hello-workflow-1\",\n",
    "            task_queue=task_queue,\n",
    "        )\n",
    "\n",
    "    console.print(f\"\\n[bold green]✅ Workflow Result:[/bold green] {result}\\n\")\n",
    "\n",
    "asyncio.run(run_exercise())\n"
   ]
  },
  {
   "cell_type": "markdown",
   "id": "b65ba42c",
   "metadata": {},
   "source": [
    "## Stretch Goal\n",
    "\n",
    "- Add retry logic to the activity with an explicit retry policy.\n",
    "- Simulate failures and watch automatic retries in the Temporal UI.\n",
    "- Add a second activity and call them sequentially from the workflow."
   ]
  }
 ],
 "metadata": {
  "language_info": {
   "name": "python"
  }
 },
 "nbformat": 4,
 "nbformat_minor": 5
}
