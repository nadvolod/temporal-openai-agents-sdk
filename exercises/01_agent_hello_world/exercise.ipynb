{
 "cells": [
  {
   "cell_type": "markdown",
   "metadata": {},
   "source": [
    "# Exercise 1: Agent Hello World\n",
    "\n",
    "**Goal:** Create a simple AI agent with one tool function using the OpenAI Agents SDK.\n",
    "\n",
    "**Timebox:** 15 minutes\n",
    "\n",
    "## What You'll Learn\n",
    "\n",
    "- How to create an agent with system instructions\n",
    "- How to define and register tool functions\n",
    "- How to run the agent and see tool calls in action"
   ]
  },
  {
   "cell_type": "markdown",
   "metadata": {},
   "source": [
    "## Setup\n",
    "\n",
    "Import required libraries and load environment variables."
   ]
  },
  {
   "cell_type": "code",
   "execution_count": 2,
   "metadata": {},
   "outputs": [
    {
     "data": {
      "text/html": [
       "<pre style=\"white-space:pre;overflow-x:auto;line-height:normal;font-family:Menlo,'DejaVu Sans Mono',consolas,'Courier New',monospace\"><span style=\"color: #008000; text-decoration-color: #008000\">✓</span> Environment loaded\n",
       "</pre>\n"
      ],
      "text/plain": [
       "\u001b[32m✓\u001b[0m Environment loaded\n"
      ]
     },
     "metadata": {},
     "output_type": "display_data"
    }
   ],
   "source": [
    "import os\n",
    "from dotenv import load_dotenv\n",
    "from openai import OpenAI\n",
    "from rich.console import Console\n",
    "\n",
    "# Load environment variables\n",
    "load_dotenv()\n",
    "\n",
    "console = Console()\n",
    "console.print(\"[green]✓[/green] Environment loaded\")"
   ]
  },
  {
   "cell_type": "markdown",
   "metadata": {},
   "source": [
    "## Step 1: Define a Tool Function\n",
    "\n",
    "Create a simple `get_weather()` function that returns weather data.\n",
    "\n",
    "**TODO:** Implement the function to return mock weather data."
   ]
  },
  {
   "cell_type": "code",
   "execution_count": null,
   "metadata": {},
   "outputs": [],
   "source": [
    "def get_weather(location: str) -> str:\n",
    "    \"\"\"\n",
    "    Tool function: Get current weather for a location.\n",
    "    \n",
    "    In a real application, this would call a weather API.\n",
    "    For this exercise, we return mock data.\n",
    "    \"\"\"\n",
    "    # TODO: Return mock weather data\n",
    "    # Example: return f\"The weather in {location} is sunny, 72°F\"\n",
    "    pass"
   ]
  },
  {
   "cell_type": "markdown",
   "metadata": {},
   "source": [
    "## Step 2: Define the Tool Schema\n",
    "\n",
    "Create the tool schema that describes the function to the LLM.\n",
    "\n",
    "**TODO:** Define the tools array with the get_weather function schema."
   ]
  },
  {
   "cell_type": "code",
   "execution_count": null,
   "metadata": {},
   "outputs": [],
   "source": [
    "# TODO: Define tools array\n",
    "tools = [\n",
    "    # Add your tool schema here\n",
    "]"
   ]
  },
  {
   "cell_type": "markdown",
   "metadata": {},
   "source": [
    "## Step 3: Initialize OpenAI Client\n",
    "\n",
    "Create the OpenAI client instance."
   ]
  },
  {
   "cell_type": "code",
   "execution_count": null,
   "metadata": {},
   "outputs": [],
   "source": [
    "# TODO: Initialize OpenAI client\n",
    "# client = OpenAI(api_key=os.getenv(\"OPENAI_API_KEY\"))"
   ]
  },
  {
   "cell_type": "markdown",
   "metadata": {},
   "source": [
    "## Step 4: Run the Agent\n",
    "\n",
    "Execute the agent with a query that will trigger the tool.\n",
    "\n",
    "**TODO:** Implement the agent execution logic."
   ]
  },
  {
   "cell_type": "code",
   "execution_count": null,
   "metadata": {},
   "outputs": [],
   "source": [
    "# TODO: Define the query\n",
    "query = \"What's the weather like in San Francisco?\"\n",
    "\n",
    "console.print(f\"[yellow]Query:[/yellow] {query}\\n\")\n",
    "\n",
    "# TODO: Make API call with tools\n",
    "# TODO: Handle tool calls if present\n",
    "# TODO: Get final response\n",
    "\n",
    "console.print(\"⚠️  Implement the TODOs above!\")\n",
    "console.print(\"   Check the solution notebook for reference\")"
   ]
  },
  {
   "cell_type": "markdown",
   "metadata": {},
   "source": [
    "## Stretch Goal\n",
    "\n",
    "- Add a second tool function (e.g., `get_time()`)\n",
    "- Modify the query to use both tools\n",
    "- Observe how the agent orchestrates multiple tool calls"
   ]
  }
 ],
 "metadata": {
  "kernelspec": {
   "display_name": "Python 3",
   "language": "python",
   "name": "python3"
  },
  "language_info": {
   "codemirror_mode": {
    "name": "ipython",
    "version": 3
   },
   "file_extension": ".py",
   "mimetype": "text/x-python",
   "name": "python",
   "nbconvert_exporter": "python",
   "pygments_lexer": "ipython3",
   "version": "3.11.13"
  }
 },
 "nbformat": 4,
 "nbformat_minor": 4
}
