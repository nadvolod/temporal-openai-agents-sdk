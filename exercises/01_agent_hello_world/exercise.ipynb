{
 "cells": [
  {
   "cell_type": "markdown",
   "metadata": {},
   "source": [
    "# Exercise 1: Agent Hello World\n",
    "\n",
    "**Goal:** Create a simple AI agent with a custom weather tool using the OpenAI Agents SDK.\n",
    "\n",
    "**Timebox:** 15 minutes\n",
    "\n",
    "## What You'll Learn\n",
    "\n",
    "- How to create an agent using the OpenAI Agents SDK\n",
    "- How to define custom tool functions with `@function_tool`\n",
    "- How to make real API calls (National Weather Service)\n",
    "- How to run the agent with asyncio"
   ]
  },
  {
   "cell_type": "markdown",
   "metadata": {},
   "source": [
    "## Setup\n",
    "\n",
    "Import required libraries and load environment variables."
   ]
  },
  {
   "cell_type": "code",
   "execution_count": null,
   "metadata": {},
   "outputs": [],
   "source": [
    "%pip install --quiet openai-agents httpx python-dotenv nest-asyncio\n",
    "\n",
    "import os\n",
    "import asyncio\n",
    "import httpx\n",
    "from dotenv import load_dotenv\n",
    "from agents import Agent, Runner, function_tool\n",
    "\n",
    "# Load environment variables\n",
    "load_dotenv()\n",
    "\n",
    "print(\"✅ Environment loaded\")"
   ]
  },
  {
   "cell_type": "markdown",
   "metadata": {},
   "source": [
    "## Step 1: Define a Weather Tool\n",
    "\n",
    "Create a `get_weather_alerts()` function that calls the National Weather Service API.\n",
    "\n",
    "**TODO:** Implement the function to fetch real weather alerts."
   ]
  },
  {
   "cell_type": "code",
   "execution_count": null,
   "metadata": {},
   "outputs": [],
   "source": [
    "@function_tool\n",
    "async def get_weather_alerts(state: str) -> str:\n",
    "    \"\"\"\n",
    "    Get current weather alerts for a US state from the National Weather Service.\n",
    "    \n",
    "    Args:\n",
    "        state: Two-letter US state code (e.g., 'CA', 'NY', 'TX')\n",
    "    \n",
    "    Returns:\n",
    "        String describing current weather alerts\n",
    "    \"\"\"\n",
    "    # TODO: Make a real API call to the National Weather Service\n",
    "    # API endpoint: https://api.weather.gov/alerts/active/area/{state}\n",
    "    # Hint: Use async with httpx.AsyncClient() as client\n",
    "    # Hint: await client.get(url, headers=headers, timeout=10.0)\n",
    "    # Hint: Parse the JSON response and extract alert information\n",
    "    # Hint: Handle cases where there are no active alerts\n",
    "    \n",
    "    pass"
   ]
  },
  {
   "cell_type": "markdown",
   "metadata": {},
   "source": [
    "## Step 2: Create an Agent\n",
    "\n",
    "Use the OpenAI Agents SDK to create an agent with instructions and tools.\n",
    "\n",
    "**TODO:** Define the agent using the `Agent` class."
   ]
  },
  {
   "cell_type": "code",
   "execution_count": null,
   "metadata": {},
   "outputs": [],
   "source": [
    "# TODO: Create an agent with the Agents SDK\n",
    "# agent = Agent(\n",
    "#     name=\"Weather Agent\",\n",
    "#     instructions=\"You help users get weather alert information for US states\",\n",
    "#     tools=[get_weather_alerts]\n",
    "# )"
   ]
  },
  {
   "cell_type": "markdown",
   "metadata": {},
   "source": [
    "## Step 3: Verify OpenAI API Key\n",
    "\n",
    "Ensure your OpenAI API key is configured."
   ]
  },
  {
   "cell_type": "code",
   "execution_count": null,
   "metadata": {},
   "outputs": [],
   "source": [
    "api_key = os.getenv(\"OPENAI_API_KEY\")\n",
    "if not api_key:\n",
    "    raise RuntimeError(\"OPENAI_API_KEY is not set. Add it to your .env file.\")\n",
    "\n",
    "masked_key = f\"{api_key[:4]}...{api_key[-4:]}\" if len(api_key) >= 8 else \"***\"\n",
    "print(f\"✅ OPENAI_API_KEY detected: {masked_key}\")"
   ]
  },
  {
   "cell_type": "markdown",
   "metadata": {},
   "source": [
    "## Step 4: Run the Agent\n",
    "\n",
    "Execute the agent with an example query."
   ]
  },
  {
   "cell_type": "code",
   "execution_count": null,
   "metadata": {},
   "outputs": [],
   "source": [
    "async def run_agent():\n",
    "    query = \"Are there any weather alerts for California?\"\n",
    "    print(f\"Query: {query}\\n\")\n",
    "    \n",
    "    # TODO: Run the agent using Runner.run()\n",
    "    # Hint: result = await Runner.run(agent, query)\n",
    "    # TODO: Display the final output\n",
    "    # Hint: print(f\"\\n🤖 Agent Response:\\n{result.final_output}\\n\")\n",
    "    \n",
    "    print(\"⚠️  Implement the TODOs above!\")\n",
    "    print(\"   Check the solution notebook for reference\")\n",
    "\n",
    "# Jupyter-specific async handling (notebooks already have an event loop)\n",
    "# In a regular Python script, you would use: asyncio.run(run_agent())\n",
    "try:\n",
    "    loop = asyncio.get_running_loop()\n",
    "    import nest_asyncio\n",
    "    nest_asyncio.apply()\n",
    "    await run_agent()\n",
    "except RuntimeError:\n",
    "    asyncio.run(run_agent())"
   ]
  },
  {
   "cell_type": "markdown",
   "metadata": {},
   "source": [
    "## Stretch Goal\n",
    "\n",
    "- Add error handling for invalid state codes or API failures\n",
    "- Modify the tool to get weather for a specific city by adding geocoding\n",
    "- Try querying for multiple states in one question"
   ]
  }
 ],
 "metadata": {
  "kernelspec": {
   "display_name": "Python 3",
   "language": "python",
   "name": "python3"
  },
  "language_info": {
   "codemirror_mode": {
    "name": "ipython",
    "version": 3
   },
   "file_extension": ".py",
   "mimetype": "text/x-python",
   "name": "python",
   "nbconvert_exporter": "python",
   "pygments_lexer": "ipython3",
   "version": "3.11.13"
  }
 },
 "nbformat": 4,
 "nbformat_minor": 4
}
