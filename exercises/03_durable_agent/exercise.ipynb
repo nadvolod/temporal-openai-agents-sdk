{
 "cells": [
  {
   "cell_type": "markdown",
   "id": "7bd855c9",
   "metadata": {},
   "source": "# Exercise 3: Durable Agent\n\n**Goal:** Build a durable weather agent using **Temporal + OpenAI Agents SDK** that automatically retries on failure.\n\n**Timebox:** 15 minutes\n\n## What You'll Learn\n\n- How to structure a Temporal + OpenAI Agents application with 4 components\n- How to convert Temporal activities into Agent tools using `activity_as_tool()`\n- How to configure workers with proper sandbox restrictions\n- How to test durability by simulating network failures\n\n## Architecture\n\nYou'll implement a **4-component pattern** that mirrors production applications:\n\n1. **`activities.py`** - Define the weather activity\n2. **`workflow.py`** - Define the workflow orchestration  \n3. **`worker.py`** - Run the worker\n4. **`starter.py`** - Execute the workflow\n\nEach component is in a separate cell below with TODO comments to guide you."
  },
  {
   "cell_type": "markdown",
   "id": "4020a341",
   "metadata": {},
   "source": "## Prerequisites\n\n1. **Temporal dev server must be running:**\n   ```bash\n   temporal server start-dev\n   ```\n\n2. **OpenAI API key configured:**\n   ```bash\n   export OPENAI_API_KEY=sk-your-key-here\n   ```\n\n3. **Internet connection:** Required for National Weather Service API\n\n## Setup\n\nInstall dependencies:"
  },
  {
   "cell_type": "markdown",
   "id": "5e9ab7b9",
   "metadata": {},
   "source": [
    "## Setup\n",
    "\n",
    "Install dependencies and import required libraries."
   ]
  },
  {
   "cell_type": "code",
   "execution_count": null,
   "id": "07649b3e",
   "metadata": {},
   "outputs": [],
   "source": "%pip install --quiet temporalio openai-agents httpx nest-asyncio pytz\n\n# Import all required modules\nimport asyncio\nimport httpx\nfrom datetime import timedelta, datetime\nimport pytz\nfrom temporalio import activity, workflow\nfrom temporalio.client import Client\nfrom temporalio.worker import Worker\nfrom temporalio.contrib import openai_agents\nfrom temporalio.contrib.openai_agents import OpenAIAgentsPlugin, ModelActivityParameters\nfrom temporalio.worker.workflow_sandbox import SandboxedWorkflowRunner, SandboxRestrictions\nfrom agents import Agent, Runner\n\nprint(\"✅ All imports successful\")"
  },
  {
   "cell_type": "markdown",
   "id": "d2933a3c",
   "metadata": {},
   "source": "## Component 1: `activities.py`\n\nDefine the weather activity that fetches alerts from the National Weather Service API.\n\n**TODO:** Implement the `get_weather` activity:\n- Use `@activity.defn(name=\"get_weather\")` decorator\n- Accept `state: str` parameter and return `dict`\n- Make async HTTP call to `https://api.weather.gov/alerts/active/area/{state}`\n- Parse JSON and extract first 5 alerts\n- Return dict with `state`, `count`, and `alerts` list"
  },
  {
   "cell_type": "code",
   "id": "izkuw8df25l",
   "source": "# TODO: Implement the get_weather activity\n@activity.defn(name=\"get_weather\")  # Register this function as a Temporal activity\nasync def get_weather(state: str) -> dict:  # Accept 2-letter state code, return structured data\n    \"\"\"Fetch active NWS alerts for a 2-letter US state code (e.g., 'CA').\"\"\"\n    # TODO: Set User-Agent header required by National Weather Service API\n    headers = {\"User-Agent\": \"\"}  # HINT: Use \"Temporal-Agents-Workshop/1.0 (educational@example.com)\"\n    # TODO: Create async HTTP client with 10-second timeout to prevent hanging\n    async with httpx.AsyncClient(timeout=10) as client:\n        # TODO: Make GET request to NWS alerts endpoint for the specified state\n        r = await client.get(\n            f\"https://api.weather.gov/alerts/active/area/{state}\",\n            headers=headers\n        )\n        # TODO: Raise exception if request fails (4xx or 5xx) - Temporal will auto-retry\n        r.raise_for_status()\n        # TODO: Parse JSON response into Python dictionary\n        data = r.json()\n\n    # TODO: Initialize empty list to collect alert information\n    alerts = []\n    # TODO: Loop through first 5 features (weather alerts) in the response\n    for f in (data.get(\"features\") or [])[:5]:\n        # TODO: Extract properties object from each feature (contains alert details)\n        p = f.get(\"properties\", {})\n        # TODO: Build structured alert dictionary with key information\n        alerts.append({\n            \"event\": p.get(\"event\"),  # Alert type (e.g., \"Flash Flood Warning\")\n            \"headline\": p.get(\"headline\"),  # Human-readable alert headline\n            \"severity\": p.get(\"severity\"),  # Severity level (e.g., \"Severe\", \"Moderate\")\n            \"area\": p.get(\"areaDesc\"),  # Geographic area affected by alert\n        })\n\n    # TODO: Return structured response with state, count, and alerts for LLM to interpret\n    return {\"state\": state.upper(), \"count\": len(alerts), \"alerts\": alerts}\n\nprint(\"✅ Activity 'get_weather' defined\")",
   "metadata": {},
   "execution_count": null,
   "outputs": []
  },
  {
   "cell_type": "markdown",
   "id": "1adc84a3",
   "metadata": {},
   "source": "## Component 2: `workflow.py`\n\nDefine the workflow that orchestrates the agent execution.\n\n**TODO:** Implement the workflow:\n- Define `TASK_QUEUE = \"agents-sdk-queue\"`\n- Create `WeatherAgentWorkflow` class with `@workflow.defn(sandboxed=False)`\n- Single parameter: `user_query: str` (no trace_id)\n- Create Agent inside workflow with `activity_as_tool()`\n- Use `Runner().run()` (instantiate Runner)\n- Return `getattr(result, \"final_output\", str(result))`"
  },
  {
   "cell_type": "code",
   "id": "9jl7fwas6wm",
   "source": "# TODO: Define which task queue this workflow will use for communication\nTASK_QUEUE = \"agents-sdk-queue\"\n\n# TODO: Disable sandbox for Jupyter compatibility using @workflow.defn(sandboxed=False)\n@workflow.defn(sandboxed=False)  # Disable sandbox for Jupyter compatibility\nclass WeatherAgentWorkflow:  # Define workflow class for orchestrating the agent\n    @workflow.run  # Mark this method as the workflow entry point\n    async def run(self, user_query: str) -> str:  # Accept user query, return agent response\n        # TODO: Create the Agent inside the workflow with tools and instructions\n        agent = Agent(\n            name=\"Weather Assistant\",  # Name shown in OpenAI traces\n            # TODO: Define agent's role and behavior when handling user queries\n            instructions=(\n                \"\"  # HINT: Tell the agent to explain weather alerts and use the get_weather tool\n            ),\n            # TODO: Provide list of tools the agent can use\n            tools=[\n                # TODO: Convert Temporal activity to Agent tool for durable execution\n                openai_agents.workflow.activity_as_tool(\n                    get_weather,  # The activity function to wrap\n                    start_to_close_timeout=timedelta(seconds=10),  # Max time for activity execution\n                )\n            ],\n        )\n        \n        # TODO: Run the agent with user query - tool calls execute as Temporal activities\n        result = await Runner().run(agent, user_query)\n        \n        # TODO: Safely extract final output from result object (handles different result types)\n        return getattr(result, \"final_output\", str(result))\n\nprint(f\"✅ Workflow 'WeatherAgentWorkflow' defined (task queue: {TASK_QUEUE})\")",
   "metadata": {},
   "execution_count": null,
   "outputs": []
  },
  {
   "cell_type": "markdown",
   "id": "82e7f91f",
   "metadata": {},
   "source": "## Component 3: `worker.py`\n\nRun the worker that polls for and executes workflow/activity tasks.\n\n**TODO:** Implement the worker:\n- Connect to Temporal with `OpenAIAgentsPlugin` and `ModelActivityParameters`\n- Create Worker with workflows and activities lists\n- No sandbox configuration needed (using `sandboxed=False` on workflow)\n- Run worker in background using `asyncio.create_task()`"
  },
  {
   "cell_type": "code",
   "id": "781z9ow04ek",
   "source": "# TODO: Define async function to start and run the worker\nasync def run_worker():  # Define async function to start and run the worker\n    \"\"\"Start a Temporal worker that listens for workflow and activity tasks.\"\"\"\n    # TODO: Connect to local Temporal server with OpenAI Agents SDK plugin\n    client = await Client.connect(\n        \"localhost:7233\",  # Temporal server address\n        # TODO: Register plugins to extend Temporal's functionality\n        plugins=[\n            # TODO: Plugin that enables OpenAI Agents SDK integration with Temporal\n            OpenAIAgentsPlugin(\n                # TODO: Configure timeout settings for AI model inference activities\n                model_params=ModelActivityParameters(\n                    start_to_close_timeout=timedelta(seconds=30)  # Max time for LLM calls\n                )\n            )\n        ],\n    )\n\n    # TODO: Create worker that polls the task queue for work\n    worker = Worker(\n        client,  # Use the connected Temporal client\n        task_queue=TASK_QUEUE,  # Which queue to poll for tasks\n        workflows=[WeatherAgentWorkflow],  # List of workflows this worker can execute\n        activities=[get_weather],  # List of activities this worker can execute\n    )\n    \n    print(f\"✅ Worker started on task queue: {TASK_QUEUE}\")\n    print(\"   Listening for workflow and activity tasks...\")\n    # TODO: Start polling and executing tasks (blocks until stopped)\n    await worker.run()\n\n# TODO: Apply nest_asyncio to allow nested event loops in Jupyter\nimport nest_asyncio\nnest_asyncio.apply()\n# TODO: Create background task to run worker without blocking the notebook\nworker_task = asyncio.create_task(run_worker())\nprint(\"🔄 Worker running in background\")",
   "metadata": {},
   "execution_count": null,
   "outputs": []
  },
  {
   "cell_type": "markdown",
   "id": "8030a184",
   "metadata": {},
   "source": "## Component 4: `starter.py`\n\nExecute the workflow and display results.\n\n**TODO:** Implement the starter:\n- Use `start_workflow` (not `execute_workflow`)\n- Generate workflow ID with EST timestamp\n- Single query parameter (no trace_id)\n- Print workflow ID and Temporal UI link\n- Wait for result with `await handle.result()`\n\n### 🎯 Test Durability (Optional)\n\nAfter running the cell below:\n1. **While executing, disconnect your network** (WiFi off)\n2. **Watch** the activity fail and Temporal retry\n3. **Reconnect** your network\n4. **Observe** automatic completion!"
  },
  {
   "cell_type": "code",
   "execution_count": null,
   "id": "742f2016",
   "metadata": {},
   "outputs": [],
   "source": "# TODO: Define async function to execute the workflow\nasync def run_exercise():  # Define async function to execute the workflow\n    \"\"\"Execute the weather agent workflow.\"\"\"\n    # TODO: Define the user query to send to the agent\n    query = \"What weather alerts are active in CA?\"\n    \n    # TODO: Generate workflow ID with EST timestamp for human-readable tracking\n    est = pytz.timezone('US/Eastern')  # Create EST timezone object\n    now = datetime.now(est)  # Get current time in EST\n    # TODO: Format timestamp as readable string with day-month-date-time pattern\n    workflow_id = f\"weather-{now.strftime('%a-%b-%d-%I%M%S').lower()}est\"\n    \n    # TODO: Connect to Temporal server with OpenAI Agents SDK plugin\n    client = await Client.connect(\n        \"localhost:7233\",  # Temporal server address\n        plugins=[OpenAIAgentsPlugin()]  # Enable OpenAI Agents integration\n    )\n    \n    print(f\"🚀 Starting workflow: {workflow_id}\")\n    print(f\"📝 Query: {query}\\n\")\n    \n    # TODO: Start the workflow (non-blocking) and get handle for tracking\n    handle = await client.start_workflow(\n        WeatherAgentWorkflow.run,  # Workflow method to execute\n        query,  # User query parameter passed to workflow\n        id=workflow_id,  # Unique workflow ID for tracking in Temporal UI\n        task_queue=TASK_QUEUE  # Queue where worker will pick up this workflow\n    )\n    \n    print(f\"✅ Workflow started: {handle.id}\")\n    # TODO: Print Temporal UI link for observing workflow execution\n    print(f\"🔗 View in Temporal UI: http://localhost:8233/namespaces/default/workflows/{workflow_id}\\n\")\n    print(\"⏳ Waiting for agent response...\\n\")\n    \n    # TODO: Wait for workflow to complete and get result (blocking)\n    result = await handle.result()\n    \n    print(\"=\" * 60)\n    print(\"🤖 Agent Response:\")\n    print(\"=\" * 60)\n    print(result)\n    print(\"=\" * 60)\n\n# Run the exercise with Jupyter-specific async handling\ntry:\n    # Try to get existing event loop (Jupyter has one running)\n    loop = asyncio.get_running_loop()\n    # Execute in existing loop\n    await run_exercise()\nexcept RuntimeError:\n    # If no loop exists, create new one and run\n    asyncio.run(run_exercise())"
  },
  {
   "cell_type": "markdown",
   "id": "a3673ea3",
   "metadata": {},
   "source": "## Summary\n\nYou've implemented a durable weather agent using the **4-component pattern**:\n\n1. ✅ **activities.py** - Weather activity that fetches NWS alerts\n2. ✅ **workflow.py** - Workflow orchestrating the agent\n3. ✅ **worker.py** - Worker running in background\n4. ✅ **starter.py** - Workflow execution\n\n## Key Takeaways\n\n- **Agent tool calls are durable** - Temporal automatically retries failed activities\n- **Clean separation of concerns** - Each component has a specific responsibility\n- **Production-ready pattern** - This structure scales to real applications\n- **Sandbox configuration** - Proper `with_passthrough_modules()` for external deps\n\n## Next Steps\n\nCheck the solution notebook if you need help, then move on to Exercise 4!"
  }
 ],
 "metadata": {
  "kernelspec": {
   "display_name": "base",
   "language": "python",
   "name": "python3"
  },
  "language_info": {
   "codemirror_mode": {
    "name": "ipython",
    "version": 3
   },
   "file_extension": ".py",
   "mimetype": "text/x-python",
   "name": "python",
   "nbconvert_exporter": "python",
   "pygments_lexer": "ipython3",
   "version": "3.11.4"
  }
 },
 "nbformat": 4,
 "nbformat_minor": 5
}