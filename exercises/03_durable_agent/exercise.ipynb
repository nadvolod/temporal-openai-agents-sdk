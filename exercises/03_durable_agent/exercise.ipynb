{
 "cells": [
  {
   "cell_type": "markdown",
   "id": "7bd855c9",
   "metadata": {},
   "source": [
    "# Exercise 3: Durable Agent\n",
    "\n",
    "**Goal:** Combine OpenAI agents with Temporal workflows to create a durable AI agent with automatic retries and state persistence.\n",
    "\n",
    "**Timebox:** 15 minutes\n",
    "\n",
    "## What You'll Learn\n",
    "\n",
    "- How to wrap LLM calls in Temporal activities for durability\n",
    "- How to persist agent state across failures using workflows\n",
    "- How to correlate Temporal execution with OpenAI traces using trace IDs\n",
    "- How automatic retries work for AI operations"
   ]
  },
  {
   "cell_type": "markdown",
   "id": "4020a341",
   "metadata": {},
   "source": [
    "## Prerequisites\n",
    "\n",
    "Ensure the Temporal dev server is running before executing the exercise.\n",
    "\n",
    "```bash\n",
    "make temporal-up\n",
    "```\n",
    "\n",
    "Add your OpenAI credentials to `.env` if you have not already."
   ]
  },
  {
   "cell_type": "markdown",
   "id": "b8837149",
   "metadata": {},
   "source": [
    "## Steps\n",
    "\n",
    "1. **Wrap LLM calls in an activity** – Complete `call_agent_with_tools` below so LLM requests run through Temporal.\n",
    "2. **Create the workflow** – Implement `DurableAgentWorkflow` to call the activity with a retry policy.\n",
    "3. **Add observability** – Generate a `trace_id` and log key information for debugging.\n",
    "4. **Run the workflow** – Use the helper cell to start a worker and execute the workflow.\n",
    "5. **Inspect history** – Open http://localhost:8233 to observe execution state and retries.\n"
   ]
  },
  {
   "cell_type": "markdown",
   "id": "5e9ab7b9",
   "metadata": {},
   "source": [
    "## Setup\n",
    "\n",
    "Install dependencies and import the Temporal + OpenAI helpers used in this exercise.\n"
   ]
  },
  {
   "cell_type": "code",
   "execution_count": null,
   "id": "07649b3e",
   "metadata": {},
   "outputs": [],
   "source": [
    "%pip install --quiet temporalio openai rich\n",
    "\n",
    "import os\n",
    "import asyncio\n",
    "import uuid\n",
    "from datetime import timedelta\n",
    "from openai import OpenAI\n",
    "from rich.console import Console\n",
    "from temporalio import activity, workflow\n",
    "from temporalio.client import Client\n",
    "from temporalio.common import RetryPolicy\n",
    "from temporalio.worker import Worker\n",
    "\n",
    "console = Console()\n",
    "\n",
    "def get_weather(location: str) -> str:\n",
    "    \"\"\"Return mock weather data for a location.\"\"\"\n",
    "    weather_data = {\n",
    "        \"San Francisco\": \"sunny, 72°F\",\n",
    "        \"New York\": \"cloudy, 65°F\",\n",
    "        \"London\": \"rainy, 58°F\",\n",
    "        \"Tokyo\": \"clear, 70°F\",\n",
    "    }\n",
    "    weather = weather_data.get(location, \"partly cloudy, 68°F\")\n",
    "    return f\"The weather in {location} is {weather}\"\n",
    "\n",
    "@activity.defn\n",
    "async def call_agent_with_tools(query: str, trace_id: str) -> str:\n",
    "    \"\"\"Call the LLM with tool support and return the final message.\"\"\"\n",
    "    # TODO: log the incoming query and trace ID\n",
    "    # TODO: build the tools list that exposes the get_weather helper\n",
    "    # TODO: call the OpenAI client and handle any tool invocations\n",
    "    # TODO: return the agent's final response string\n",
    "    raise NotImplementedError(\"Implement call_agent_with_tools\")\n",
    "\n",
    "@workflow.defn\n",
    "class DurableAgentWorkflow:\n",
    "    @workflow.run\n",
    "    async def run(self, query: str, trace_id: str) -> str:\n",
    "        # TODO: log the query and trace ID for observability\n",
    "        # TODO: execute the call_agent_with_tools activity with a RetryPolicy\n",
    "        # TODO: return the agent's response to the caller\n",
    "        raise NotImplementedError(\"Implement DurableAgentWorkflow.run\")"
   ]
  },
  {
   "cell_type": "markdown",
   "id": "d2933a3c",
   "metadata": {},
   "source": [
    "## Implement the Activity\n",
    "\n",
    "Wrap the LLM call in a Temporal activity so it can retry safely.\n"
   ]
  },
  {
   "cell_type": "markdown",
   "id": "1adc84a3",
   "metadata": {},
   "source": [
    "## Implement the Workflow\n",
    "\n",
    "Add retries and logging to orchestrate the activity invocation.\n"
   ]
  },
  {
   "cell_type": "markdown",
   "id": "82e7f91f",
   "metadata": {},
   "source": [
    "## Expected Output\n",
    "\n",
    "```\n",
    "🚀 Starting Durable Agent workflow...\n",
    "   Trace ID: 550e8400-e29b-41d4-a716-446655440000\n",
    "\n",
    "🤖 Agent Query: What's the weather in San Francisco?\n",
    "\n",
    "🔧 Activity: Calling tool get_weather(location=\"San Francisco\")\n",
    "✓ Tool result: The weather in San Francisco is sunny, 72°F\n",
    "\n",
    "🤖 Agent Response:\n",
    "The current weather in San Francisco is sunny with a temperature of 72°F.\n",
    "\n",
    "✅ Workflow completed successfully\n",
    "\n",
    "View in Temporal UI: http://localhost:8233/namespaces/default/workflows/durable-agent-1\n",
    "Trace ID for correlation: 550e8400-e29b-41d4-a716-446655440000\n",
    "```\n"
   ]
  },
  {
   "cell_type": "markdown",
   "id": "8030a184",
   "metadata": {},
   "source": [
    "## Practice\n",
    "\n",
    "Use the cell below to run the exercise script once you complete the TODOs in the Python files."
   ]
  },
  {
   "cell_type": "code",
   "execution_count": null,
   "id": "742f2016",
   "metadata": {
    "vscode": {
     "languageId": "bash"
    }
   },
   "outputs": [],
   "source": [
    "# Run the durable agent exercise\n",
    "async def run_exercise() -> None:\n",
    "    console.print(\"\\n[bold cyan]🚀 Exercise 3: Durable Agent[/bold cyan]\\n\")\n",
    "\n",
    "    trace_id = str(uuid.uuid4())\n",
    "    console.print(f\"[yellow]Trace ID:[/yellow] {trace_id}\\n\")\n",
    "\n",
    "    client = await Client.connect(\"localhost:7233\")\n",
    "    task_queue = \"durable-agent-queue\"\n",
    "\n",
    "    async with Worker(\n",
    "        client,\n",
    "        task_queue=task_queue,\n",
    "        workflows=[DurableAgentWorkflow],\n",
    "        activities=[call_agent_with_tools],\n",
    "    ):\n",
    "        query = \"What's the weather like in San Francisco?\"\n",
    "        workflow_id = f\"durable-agent-{trace_id}\"\n",
    "\n",
    "        console.print(f\"[yellow]Query:[/yellow] {query}\\n\")\n",
    "\n",
    "        result = await client.execute_workflow(\n",
    "            DurableAgentWorkflow.run,\n",
    "            args=[query, trace_id],\n",
    "            id=workflow_id,\n",
    "            task_queue=task_queue,\n",
    "        )\n",
    "\n",
    "    console.print(f\"\\n[bold green]🤖 Agent Response:[/bold green]\\n{result}\\n\")\n",
    "    console.print(\n",
    "        f\"[yellow]View in Temporal UI:[/yellow] \"\n",
    "        f\"http://localhost:8233/namespaces/default/workflows/{workflow_id}\"\n",
    "    )\n",
    "    console.print(f\"[yellow]Trace ID for correlation:[/yellow] {trace_id}\\n\")\n",
    "\n",
    "try:\n",
    "    loop = asyncio.get_running_loop()\n",
    "except RuntimeError:\n",
    "    asyncio.run(run_exercise())\n",
    "else:\n",
    "    import nest_asyncio\n",
    "    nest_asyncio.apply()\n",
    "    await run_exercise()"
   ]
  },
  {
   "cell_type": "markdown",
   "id": "a3673ea3",
   "metadata": {},
   "source": [
    "## Stretch Goal\n",
    "\n",
    "- Simulate a failure inside the activity and observe automatic retries.\n",
    "- Add conversation history to maintain multi-turn context.\n",
    "- Implement exponential backoff retry policy for LLM calls."
   ]
  }
 ],
 "metadata": {
  "kernelspec": {
   "display_name": "Python 3",
   "language": "python",
   "name": "python3"
  },
  "language_info": {
   "name": "python",
   "version": "3.11.13"
  }
 },
 "nbformat": 4,
 "nbformat_minor": 5
}
